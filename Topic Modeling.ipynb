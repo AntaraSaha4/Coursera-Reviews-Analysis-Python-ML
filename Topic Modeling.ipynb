{
 "cells": [
  {
   "cell_type": "code",
   "execution_count": 5,
   "metadata": {
    "executionInfo": {
     "elapsed": 1986,
     "status": "ok",
     "timestamp": 1681560502541,
     "user": {
      "displayName": "antara saha",
      "userId": "12600971890078980421"
     },
     "user_tz": 240
    },
    "id": "2u4U6jzAzL75"
   },
   "outputs": [],
   "source": [
    "import spacy\n",
    "nlp = spacy.load(\"en_core_web_sm\")"
   ]
  },
  {
   "cell_type": "code",
   "execution_count": null,
   "metadata": {
    "id": "lTZTOrsYzocm"
   },
   "outputs": [],
   "source": [
    "!pip install scikit-learn gensim yellowbrick"
   ]
  },
  {
   "cell_type": "code",
   "execution_count": 86,
   "metadata": {
    "colab": {
     "base_uri": "https://localhost:8080/"
    },
    "executionInfo": {
     "elapsed": 6404,
     "status": "ok",
     "timestamp": 1681570421500,
     "user": {
      "displayName": "antara saha",
      "userId": "12600971890078980421"
     },
     "user_tz": 240
    },
    "id": "kKl8-0PIaDzl",
    "outputId": "223fc601-805a-457e-de39-37052d08a0d8"
   },
   "outputs": [
    {
     "name": "stdout",
     "output_type": "stream",
     "text": [
      "Looking in indexes: https://pypi.org/simple, https://us-python.pkg.dev/colab-wheels/public/simple/\n",
      "Requirement already satisfied: tqdm in /usr/local/lib/python3.9/dist-packages (4.65.0)\n"
     ]
    }
   ],
   "source": [
    "!pip install tqdm"
   ]
  },
  {
   "cell_type": "code",
   "execution_count": 87,
   "metadata": {
    "colab": {
     "base_uri": "https://localhost:8080/"
    },
    "executionInfo": {
     "elapsed": 196,
     "status": "ok",
     "timestamp": 1681570435597,
     "user": {
      "displayName": "antara saha",
      "userId": "12600971890078980421"
     },
     "user_tz": 240
    },
    "id": "Qs7A2TyQ1dl8",
    "outputId": "8037e292-09a7-42ac-f47f-3f98c64bc37b"
   },
   "outputs": [
    {
     "name": "stderr",
     "output_type": "stream",
     "text": [
      "[nltk_data] Downloading package stopwords to /root/nltk_data...\n",
      "[nltk_data]   Package stopwords is already up-to-date!\n",
      "[nltk_data] Downloading package wordnet to /root/nltk_data...\n",
      "[nltk_data]   Package wordnet is already up-to-date!\n"
     ]
    },
    {
     "data": {
      "text/plain": [
       "True"
      ]
     },
     "execution_count": 87,
     "metadata": {},
     "output_type": "execute_result"
    }
   ],
   "source": [
    "from sklearn.feature_extraction.text import TfidfVectorizer, CountVectorizer\n",
    "import pandas as pd\n",
    "from tqdm import tqdm\n",
    "tqdm.pandas()\n",
    "import nltk\n",
    "from nltk.corpus import stopwords\n",
    "from nltk.stem import WordNetLemmatizer\n",
    "import spacy\n",
    "nltk.download('stopwords')\n",
    "nltk.download('wordnet')"
   ]
  },
  {
   "cell_type": "code",
   "execution_count": 82,
   "metadata": {
    "executionInfo": {
     "elapsed": 2963,
     "status": "ok",
     "timestamp": 1681570376828,
     "user": {
      "displayName": "antara saha",
      "userId": "12600971890078980421"
     },
     "user_tz": 240
    },
    "id": "8p_mrf491tlr"
   },
   "outputs": [],
   "source": [
    "# Load Courses details Data\n",
    "review_data = pd.read_csv('/content/drive/MyDrive/CMU SUBJECTS/DATA/Clean Data/coursera_reviews_clean_data.csv')"
   ]
  },
  {
   "cell_type": "code",
   "execution_count": 83,
   "metadata": {
    "executionInfo": {
     "elapsed": 143,
     "status": "ok",
     "timestamp": 1681570377989,
     "user": {
      "displayName": "antara saha",
      "userId": "12600971890078980421"
     },
     "user_tz": 240
    },
    "id": "09WCb_R62UZX"
   },
   "outputs": [],
   "source": [
    "pos_neg_review_data = review_data[review_data[\"sentiments\"] != \"Neutral\"]"
   ]
  },
  {
   "cell_type": "code",
   "execution_count": 84,
   "metadata": {
    "colab": {
     "base_uri": "https://localhost:8080/"
    },
    "executionInfo": {
     "elapsed": 390,
     "status": "ok",
     "timestamp": 1681570379584,
     "user": {
      "displayName": "antara saha",
      "userId": "12600971890078980421"
     },
     "user_tz": 240
    },
    "id": "On2oFMYjTASH",
    "outputId": "bd801fe0-5456-4712-e4eb-897310b9d846"
   },
   "outputs": [
    {
     "data": {
      "text/plain": [
       "162990"
      ]
     },
     "execution_count": 84,
     "metadata": {},
     "output_type": "execute_result"
    }
   ],
   "source": [
    "len(pos_neg_review_data)"
   ]
  },
  {
   "cell_type": "code",
   "execution_count": 85,
   "metadata": {
    "colab": {
     "base_uri": "https://localhost:8080/",
     "height": 323
    },
    "executionInfo": {
     "elapsed": 139,
     "status": "error",
     "timestamp": 1681570397299,
     "user": {
      "displayName": "antara saha",
      "userId": "12600971890078980421"
     },
     "user_tz": 240
    },
    "id": "q-IUg24qS_LE",
    "outputId": "6e3ca7c9-6f2d-4881-dedc-ca793c26adf6"
   },
   "outputs": [
    {
     "ename": "AttributeError",
     "evalue": "ignored",
     "output_type": "error",
     "traceback": [
      "\u001b[0;31m---------------------------------------------------------------------------\u001b[0m",
      "\u001b[0;31mAttributeError\u001b[0m                            Traceback (most recent call last)",
      "\u001b[0;32m<ipython-input-85-7f5de469ff2f>\u001b[0m in \u001b[0;36m<cell line: 9>\u001b[0;34m()\u001b[0m\n\u001b[1;32m      7\u001b[0m     \u001b[0;32mreturn\u001b[0m \u001b[0;34m' '\u001b[0m\u001b[0;34m.\u001b[0m\u001b[0mjoin\u001b[0m\u001b[0;34m(\u001b[0m\u001b[0mtokens\u001b[0m\u001b[0;34m)\u001b[0m\u001b[0;34m\u001b[0m\u001b[0;34m\u001b[0m\u001b[0m\n\u001b[1;32m      8\u001b[0m \u001b[0;34m\u001b[0m\u001b[0m\n\u001b[0;32m----> 9\u001b[0;31m \u001b[0mpos_neg_review_data\u001b[0m\u001b[0;34m[\u001b[0m\u001b[0;34m\"preprocessed_text\"\u001b[0m\u001b[0;34m]\u001b[0m \u001b[0;34m=\u001b[0m \u001b[0mpos_neg_review_data\u001b[0m\u001b[0;34m[\u001b[0m\u001b[0;34m\"reviews\"\u001b[0m\u001b[0;34m]\u001b[0m\u001b[0;34m.\u001b[0m\u001b[0mprogress_apply\u001b[0m\u001b[0;34m(\u001b[0m\u001b[0mpreprocess\u001b[0m\u001b[0;34m)\u001b[0m\u001b[0;34m\u001b[0m\u001b[0;34m\u001b[0m\u001b[0m\n\u001b[0m",
      "\u001b[0;32m/usr/local/lib/python3.9/dist-packages/pandas/core/generic.py\u001b[0m in \u001b[0;36m__getattr__\u001b[0;34m(self, name)\u001b[0m\n\u001b[1;32m   5900\u001b[0m         ):\n\u001b[1;32m   5901\u001b[0m             \u001b[0;32mreturn\u001b[0m \u001b[0mself\u001b[0m\u001b[0;34m[\u001b[0m\u001b[0mname\u001b[0m\u001b[0;34m]\u001b[0m\u001b[0;34m\u001b[0m\u001b[0;34m\u001b[0m\u001b[0m\n\u001b[0;32m-> 5902\u001b[0;31m         \u001b[0;32mreturn\u001b[0m \u001b[0mobject\u001b[0m\u001b[0;34m.\u001b[0m\u001b[0m__getattribute__\u001b[0m\u001b[0;34m(\u001b[0m\u001b[0mself\u001b[0m\u001b[0;34m,\u001b[0m \u001b[0mname\u001b[0m\u001b[0;34m)\u001b[0m\u001b[0;34m\u001b[0m\u001b[0;34m\u001b[0m\u001b[0m\n\u001b[0m\u001b[1;32m   5903\u001b[0m \u001b[0;34m\u001b[0m\u001b[0m\n\u001b[1;32m   5904\u001b[0m     \u001b[0;32mdef\u001b[0m \u001b[0m__setattr__\u001b[0m\u001b[0;34m(\u001b[0m\u001b[0mself\u001b[0m\u001b[0;34m,\u001b[0m \u001b[0mname\u001b[0m\u001b[0;34m:\u001b[0m \u001b[0mstr\u001b[0m\u001b[0;34m,\u001b[0m \u001b[0mvalue\u001b[0m\u001b[0;34m)\u001b[0m \u001b[0;34m->\u001b[0m \u001b[0;32mNone\u001b[0m\u001b[0;34m:\u001b[0m\u001b[0;34m\u001b[0m\u001b[0;34m\u001b[0m\u001b[0m\n",
      "\u001b[0;31mAttributeError\u001b[0m: 'Series' object has no attribute 'progress_apply'"
     ]
    }
   ],
   "source": [
    "def preprocess(text):\n",
    "    lemmatizer = WordNetLemmatizer()\n",
    "    nlp = spacy.load('en_core_web_sm', disable=['parser', 'ner'])\n",
    "    doc = nlp(text)\n",
    "    tokens = [token.lemma_ for token in doc if len(token) > 2]\n",
    "    tokens = [lemmatizer.lemmatize(token) for token in tokens]\n",
    "    return ' '.join(tokens)\n",
    "\n",
    "pos_neg_review_data[\"preprocessed_text\"] = pos_neg_review_data[\"reviews\"].progress_apply(preprocess)"
   ]
  },
  {
   "cell_type": "code",
   "execution_count": 75,
   "metadata": {
    "colab": {
     "base_uri": "https://localhost:8080/"
    },
    "executionInfo": {
     "elapsed": 117,
     "status": "ok",
     "timestamp": 1681567975850,
     "user": {
      "displayName": "antara saha",
      "userId": "12600971890078980421"
     },
     "user_tz": 240
    },
    "id": "mctUYZaUQUFD",
    "outputId": "b69283a2-7cab-4892-de24-7f4eb7afc9f2"
   },
   "outputs": [
    {
     "name": "stderr",
     "output_type": "stream",
     "text": [
      "[nltk_data] Downloading package stopwords to /root/nltk_data...\n",
      "[nltk_data]   Package stopwords is already up-to-date!\n"
     ]
    }
   ],
   "source": [
    "# Custom Stop words\n",
    "stop_words = set(stopwords.words('english'))\n",
    "# Define a list of negation words and their contractions\n",
    "negation_words = [\"not\", \"n't\", \"no\", \"never\", \"none\", \"neither\", \"nowhere\", \"nothing\",\n",
    "                  \"don't\", \"doesn't\", \"didn't\", \"isn't\", \"aren't\", \"wasn't\", \"weren't\",\n",
    "                  \"haven't\", \"hasn't\", \"hadn't\", \"won't\", \"wouldn't\", \"can't\", \"couldn't\",\n",
    "                  \"shouldn't\"]\n",
    "    \n",
    "# Remove all the negation words and their contractions from stop words\n",
    "custom_stop_words = list({word for word in stop_words if word.lower() not in negation_words})"
   ]
  },
  {
   "cell_type": "code",
   "execution_count": 76,
   "metadata": {
    "executionInfo": {
     "elapsed": 2656,
     "status": "ok",
     "timestamp": 1681567979436,
     "user": {
      "displayName": "antara saha",
      "userId": "12600971890078980421"
     },
     "user_tz": 240
    },
    "id": "qJBdmLVY2SCs"
   },
   "outputs": [],
   "source": [
    "tf_vectorizer = CountVectorizer(max_df=0.95,\n",
    "                                min_df=2,\n",
    "                                stop_words=custom_stop_words,\n",
    "                                 ngram_range=(3, 3))\n",
    "neg_data = pos_neg_review_data[pos_neg_review_data[\"sentiments\"]==\"Negative\"][\"reviews\"]\n",
    "tf_neg = tf_vectorizer.fit_transform(neg_data)"
   ]
  },
  {
   "cell_type": "code",
   "execution_count": 67,
   "metadata": {
    "colab": {
     "base_uri": "https://localhost:8080/"
    },
    "executionInfo": {
     "elapsed": 2,
     "status": "ok",
     "timestamp": 1681567668717,
     "user": {
      "displayName": "antara saha",
      "userId": "12600971890078980421"
     },
     "user_tz": 240
    },
    "id": "fffM8QQMOrtd",
    "outputId": "a36dbcde-0877-402f-dfdc-02f7576846fb"
   },
   "outputs": [
    {
     "name": "stdout",
     "output_type": "stream",
     "text": [
      "['10 15 minutes' '10 ibm data' '10 min video' ... 'years ago fixed'\n",
      " 'youtube video course' 'youtube videos subject']\n"
     ]
    }
   ],
   "source": [
    "print(tf_vectorizer.get_feature_names_out())"
   ]
  },
  {
   "cell_type": "code",
   "execution_count": 77,
   "metadata": {
    "colab": {
     "base_uri": "https://localhost:8080/",
     "height": 74
    },
    "executionInfo": {
     "elapsed": 13100,
     "status": "ok",
     "timestamp": 1681568000439,
     "user": {
      "displayName": "antara saha",
      "userId": "12600971890078980421"
     },
     "user_tz": 240
    },
    "id": "jDEGbNQ72hTB",
    "outputId": "69a50d10-45a8-4435-e476-cffb5cce8c66"
   },
   "outputs": [
    {
     "data": {
      "text/html": [
       "<style>#sk-container-id-4 {color: black;background-color: white;}#sk-container-id-4 pre{padding: 0;}#sk-container-id-4 div.sk-toggleable {background-color: white;}#sk-container-id-4 label.sk-toggleable__label {cursor: pointer;display: block;width: 100%;margin-bottom: 0;padding: 0.3em;box-sizing: border-box;text-align: center;}#sk-container-id-4 label.sk-toggleable__label-arrow:before {content: \"▸\";float: left;margin-right: 0.25em;color: #696969;}#sk-container-id-4 label.sk-toggleable__label-arrow:hover:before {color: black;}#sk-container-id-4 div.sk-estimator:hover label.sk-toggleable__label-arrow:before {color: black;}#sk-container-id-4 div.sk-toggleable__content {max-height: 0;max-width: 0;overflow: hidden;text-align: left;background-color: #f0f8ff;}#sk-container-id-4 div.sk-toggleable__content pre {margin: 0.2em;color: black;border-radius: 0.25em;background-color: #f0f8ff;}#sk-container-id-4 input.sk-toggleable__control:checked~div.sk-toggleable__content {max-height: 200px;max-width: 100%;overflow: auto;}#sk-container-id-4 input.sk-toggleable__control:checked~label.sk-toggleable__label-arrow:before {content: \"▾\";}#sk-container-id-4 div.sk-estimator input.sk-toggleable__control:checked~label.sk-toggleable__label {background-color: #d4ebff;}#sk-container-id-4 div.sk-label input.sk-toggleable__control:checked~label.sk-toggleable__label {background-color: #d4ebff;}#sk-container-id-4 input.sk-hidden--visually {border: 0;clip: rect(1px 1px 1px 1px);clip: rect(1px, 1px, 1px, 1px);height: 1px;margin: -1px;overflow: hidden;padding: 0;position: absolute;width: 1px;}#sk-container-id-4 div.sk-estimator {font-family: monospace;background-color: #f0f8ff;border: 1px dotted black;border-radius: 0.25em;box-sizing: border-box;margin-bottom: 0.5em;}#sk-container-id-4 div.sk-estimator:hover {background-color: #d4ebff;}#sk-container-id-4 div.sk-parallel-item::after {content: \"\";width: 100%;border-bottom: 1px solid gray;flex-grow: 1;}#sk-container-id-4 div.sk-label:hover label.sk-toggleable__label {background-color: #d4ebff;}#sk-container-id-4 div.sk-serial::before {content: \"\";position: absolute;border-left: 1px solid gray;box-sizing: border-box;top: 0;bottom: 0;left: 50%;z-index: 0;}#sk-container-id-4 div.sk-serial {display: flex;flex-direction: column;align-items: center;background-color: white;padding-right: 0.2em;padding-left: 0.2em;position: relative;}#sk-container-id-4 div.sk-item {position: relative;z-index: 1;}#sk-container-id-4 div.sk-parallel {display: flex;align-items: stretch;justify-content: center;background-color: white;position: relative;}#sk-container-id-4 div.sk-item::before, #sk-container-id-4 div.sk-parallel-item::before {content: \"\";position: absolute;border-left: 1px solid gray;box-sizing: border-box;top: 0;bottom: 0;left: 50%;z-index: -1;}#sk-container-id-4 div.sk-parallel-item {display: flex;flex-direction: column;z-index: 1;position: relative;background-color: white;}#sk-container-id-4 div.sk-parallel-item:first-child::after {align-self: flex-end;width: 50%;}#sk-container-id-4 div.sk-parallel-item:last-child::after {align-self: flex-start;width: 50%;}#sk-container-id-4 div.sk-parallel-item:only-child::after {width: 0;}#sk-container-id-4 div.sk-dashed-wrapped {border: 1px dashed gray;margin: 0 0.4em 0.5em 0.4em;box-sizing: border-box;padding-bottom: 0.4em;background-color: white;}#sk-container-id-4 div.sk-label label {font-family: monospace;font-weight: bold;display: inline-block;line-height: 1.2em;}#sk-container-id-4 div.sk-label-container {text-align: center;}#sk-container-id-4 div.sk-container {/* jupyter's `normalize.less` sets `[hidden] { display: none; }` but bootstrap.min.css set `[hidden] { display: none !important; }` so we also need the `!important` here to be able to override the default hidden behavior on the sphinx rendered scikit-learn.org. See: https://github.com/scikit-learn/scikit-learn/issues/21755 */display: inline-block !important;position: relative;}#sk-container-id-4 div.sk-text-repr-fallback {display: none;}</style><div id=\"sk-container-id-4\" class=\"sk-top-container\"><div class=\"sk-text-repr-fallback\"><pre>LatentDirichletAllocation(n_components=5, random_state=0)</pre><b>In a Jupyter environment, please rerun this cell to show the HTML representation or trust the notebook. <br />On GitHub, the HTML representation is unable to render, please try loading this page with nbviewer.org.</b></div><div class=\"sk-container\" hidden><div class=\"sk-item\"><div class=\"sk-estimator sk-toggleable\"><input class=\"sk-toggleable__control sk-hidden--visually\" id=\"sk-estimator-id-4\" type=\"checkbox\" checked><label for=\"sk-estimator-id-4\" class=\"sk-toggleable__label sk-toggleable__label-arrow\">LatentDirichletAllocation</label><div class=\"sk-toggleable__content\"><pre>LatentDirichletAllocation(n_components=5, random_state=0)</pre></div></div></div></div></div>"
      ],
      "text/plain": [
       "LatentDirichletAllocation(n_components=5, random_state=0)"
      ]
     },
     "execution_count": 77,
     "metadata": {},
     "output_type": "execute_result"
    }
   ],
   "source": [
    "num_topics = 5\n",
    "\n",
    "from sklearn.decomposition import LatentDirichletAllocation\n",
    "lda = LatentDirichletAllocation(n_components=num_topics, random_state=0)\n",
    "lda.fit(tf_neg)"
   ]
  },
  {
   "cell_type": "code",
   "execution_count": 78,
   "metadata": {
    "executionInfo": {
     "elapsed": 123,
     "status": "ok",
     "timestamp": 1681568039291,
     "user": {
      "displayName": "antara saha",
      "userId": "12600971890078980421"
     },
     "user_tz": 240
    },
    "id": "CJFsY4uLNwa6"
   },
   "outputs": [],
   "source": [
    "topic_word_distributions = np.array([row / row.sum() for row in lda.components_])"
   ]
  },
  {
   "cell_type": "code",
   "execution_count": 79,
   "metadata": {
    "colab": {
     "base_uri": "https://localhost:8080/"
    },
    "executionInfo": {
     "elapsed": 325,
     "status": "ok",
     "timestamp": 1681568040359,
     "user": {
      "displayName": "antara saha",
      "userId": "12600971890078980421"
     },
     "user_tz": 240
    },
    "id": "kAfWv0XHN39p",
    "outputId": "e62c76f0-5924-4943-ceb9-b11f8affbb26"
   },
   "outputs": [
    {
     "name": "stdout",
     "output_type": "stream",
     "text": [
      "Displaying the top 20 words per topic and their probabilities within the topic...\n",
      "\n",
      "[Topic 0]\n",
      "little bit difficult : 0.007259668055974179\n",
      "ca not understand : 0.004218034134837845\n",
      "not good course : 0.003648929203813411\n",
      "not feel like : 0.0027045337426764423\n",
      "not take course : 0.0027040122412710357\n",
      "course learned lot : 0.002703750509134402\n",
      "could not get : 0.002509583998000809\n",
      "course extremely informative : 0.0025083429896419727\n",
      "quite difficult understand : 0.0023210552506367416\n",
      "first two courses : 0.0023185336264319625\n",
      "learned lot things : 0.0023182550484064425\n",
      "course helped understand : 0.002318192879050425\n",
      "not well explained : 0.002284001532995589\n",
      "not learn anything : 0.002200665268421665\n",
      "could not complete : 0.00213016526663926\n",
      "not explained well : 0.0021281380314200106\n",
      "course little bit : 0.0018734233682426173\n",
      "well put together : 0.0017449909011024401\n",
      "must take course : 0.0015584406102203139\n",
      "little bit complicated : 0.0015583840301605168\n",
      "\n",
      "[Topic 1]\n",
      "hours completecourse approximately : 0.010787219074550393\n",
      "worst course ever : 0.006917876322548149\n",
      "ibm watson studio : 0.005824453423038976\n",
      "approximately 16 hours : 0.004570285886814695\n",
      "ibm data science : 0.004071283791868196\n",
      "completecourse approximately 16 : 0.0040662102245441895\n",
      "16 hours completecourse : 0.0040662102245441895\n",
      "well structured course : 0.003567080708409786\n",
      "takes approximately 19 : 0.0030580588950619146\n",
      "approximately 19 hours : 0.0030580588950619146\n",
      "approximately hours completecourse : 0.00272200845393399\n",
      "course ever taken : 0.002719387904269399\n",
      "not well organized : 0.002387345603464661\n",
      "https www coursera : 0.002385956644137505\n",
      "www coursera org : 0.002385956644137505\n",
      "data science experience : 0.0023856520910349246\n",
      "not worth money : 0.0023518035804293395\n",
      "introduction data science : 0.002349578136150025\n",
      "complete waste time : 0.0019301460343595712\n",
      "course approximately hours : 0.0017138571222076438\n",
      "\n",
      "[Topic 2]\n",
      "little bit hard : 0.007075187840375352\n",
      "machine learning course : 0.0066809391929361734\n",
      "peer graded assignment : 0.005553399999099819\n",
      "not clearly explained : 0.004032298252359111\n",
      "peer graded assignments : 0.0034624630484479673\n",
      "not easy understand : 0.0032715617616482363\n",
      "recommend course everyone : 0.002890416483360195\n",
      "not good enough : 0.002700673723197358\n",
      "course really helpful : 0.0027005265971586094\n",
      "bit hard understand : 0.0023202115636257216\n",
      "python data science : 0.002131152102474018\n",
      "not know anything : 0.002129930855790877\n",
      "really not like : 0.0021295741254918573\n",
      "course content not : 0.0019415369979818749\n",
      "final assignment not : 0.0019393969529439199\n",
      "get hands dirty : 0.0017497366952376652\n",
      "concepts not explained : 0.0017494529036600676\n",
      "not like course : 0.0017493445360656436\n",
      "not challenging enough : 0.0015595729293426696\n",
      "not much information : 0.0015591237606210145\n",
      "\n",
      "[Topic 3]\n",
      "would not recommend : 0.013085470320044371\n",
      "learned lot course : 0.009124918814476548\n",
      "not recommend course : 0.007428440492264686\n",
      "course extremely helpful : 0.00640228658693409\n",
      "not clear enough : 0.003855841098056617\n",
      "wasted lot time : 0.003491736965114336\n",
      "course helped lot : 0.0031284067287129427\n",
      "well designed course : 0.0031283217056225126\n",
      "really enjoyed course : 0.003127109010961876\n",
      "extremely helpful course : 0.002946618804960712\n",
      "course well designed : 0.0025848252337259997\n",
      "not recommend anyone : 0.0023880667533441413\n",
      "international criminal law : 0.0022189186320409776\n",
      "ca not believe : 0.002041384456355516\n",
      "poor audio quality : 0.0020237036284294625\n",
      "not worth time : 0.0018569456112445882\n",
      "assignments not clear : 0.0018551901668060864\n",
      "not easy follow : 0.0018551576892161191\n",
      "could not find : 0.0016750480134482269\n",
      "ca not wait : 0.0016746805778311887\n",
      "\n",
      "[Topic 4]\n",
      "recommend course anyone : 0.006241003556938045\n",
      "little bit boring : 0.005271631571311079\n",
      "course well structured : 0.0040663799230765555\n",
      "waste time money : 0.0038383636002545514\n",
      "highly recommend course : 0.0034946840678659295\n",
      "not waste time : 0.0032715511889994634\n",
      "would recommend course : 0.003139459336539362\n",
      "course little bit : 0.003011938797863236\n",
      "course ca not : 0.002751954035741076\n",
      "bit difficult understand : 0.0026922404419207776\n",
      "ca not get : 0.002515823139416271\n",
      "found course helpful : 0.002364028325429865\n",
      "data science course : 0.0020856194866696472\n",
      "not able get : 0.0019768633579644907\n",
      "labs not work : 0.0019767625992397958\n",
      "not learn much : 0.0019765842796717896\n",
      "peer review system : 0.001976579980040522\n",
      "no prior knowledge : 0.0019350352667925753\n",
      "would highly recommend : 0.001783172876952894\n",
      "total waste time : 0.0017830019213537038\n",
      "\n"
     ]
    }
   ],
   "source": [
    "num_top_words = 20\n",
    "\n",
    "def print_top_words(topic_word_distributions, num_top_words, vectorizer):\n",
    "    vocab = vectorizer.get_feature_names_out()\n",
    "    num_topics = len(topic_word_distributions)\n",
    "    print('Displaying the top %d words per topic and their probabilities within the topic...' % num_top_words)\n",
    "    print()\n",
    "\n",
    "    for topic_idx in range(num_topics):\n",
    "        print('[Topic ', topic_idx, ']', sep='')\n",
    "        sort_indices = np.argsort(-topic_word_distributions[topic_idx])\n",
    "        for rank in range(num_top_words):\n",
    "            word_idx = sort_indices[rank]\n",
    "            print(vocab[word_idx], ':',\n",
    "                  topic_word_distributions[topic_idx, word_idx])\n",
    "        print()\n",
    "\n",
    "print_top_words(topic_word_distributions, num_top_words, tf_vectorizer)"
   ]
  },
  {
   "cell_type": "markdown",
   "metadata": {
    "id": "U_ODgiaL581Q"
   },
   "source": [
    "## BERT Topic Modeling"
   ]
  },
  {
   "cell_type": "code",
   "execution_count": null,
   "metadata": {
    "id": "D85pqDM757PK"
   },
   "outputs": [],
   "source": [
    "!pip install bertopic"
   ]
  },
  {
   "cell_type": "code",
   "execution_count": 21,
   "metadata": {
    "executionInfo": {
     "elapsed": 22568,
     "status": "ok",
     "timestamp": 1681562455575,
     "user": {
      "displayName": "antara saha",
      "userId": "12600971890078980421"
     },
     "user_tz": 240
    },
    "id": "Y2SC91o657UF"
   },
   "outputs": [],
   "source": [
    "#import dependencies\n",
    "import pandas as pd\n",
    "from bertopic import BERTopic\n",
    "from sentence_transformers import SentenceTransformer, util\n",
    "from umap import UMAP\n",
    "from hdbscan import HDBSCAN\n",
    "from sklearn.feature_extraction.text import CountVectorizer\n",
    "from bertopic.vectorizers import ClassTfidfTransformer\n",
    "import numpy as np"
   ]
  },
  {
   "cell_type": "code",
   "execution_count": 25,
   "metadata": {
    "executionInfo": {
     "elapsed": 660,
     "status": "ok",
     "timestamp": 1681562853039,
     "user": {
      "displayName": "antara saha",
      "userId": "12600971890078980421"
     },
     "user_tz": 240
    },
    "id": "tr55aXr39MAE"
   },
   "outputs": [],
   "source": [
    "# Load Courses details Data\n",
    "Coursera_courses = pd.read_csv('/content/drive/MyDrive/CMU SUBJECTS/DATA/Clean Data/Coursera_courses.csv')"
   ]
  },
  {
   "cell_type": "code",
   "execution_count": null,
   "metadata": {
    "id": "zmpM4XfC2i1r"
   },
   "outputs": [],
   "source": [
    "# Load Courses details Data\n",
    "review_data = pd.read_csv('/content/drive/MyDrive/CMU SUBJECTS/DATA/temp_coursera_reviews_clean_data.csv')\n",
    "review_data.head()"
   ]
  },
  {
   "cell_type": "code",
   "execution_count": 27,
   "metadata": {
    "executionInfo": {
     "elapsed": 411,
     "status": "ok",
     "timestamp": 1681562958012,
     "user": {
      "displayName": "antara saha",
      "userId": "12600971890078980421"
     },
     "user_tz": 240
    },
    "id": "IrBzHI9z9UEe"
   },
   "outputs": [],
   "source": [
    "final_data = pd.merge(Coursera_courses,review_data,how=\"inner\",on='course_id')"
   ]
  },
  {
   "cell_type": "code",
   "execution_count": 34,
   "metadata": {
    "executionInfo": {
     "elapsed": 113,
     "status": "ok",
     "timestamp": 1681563040540,
     "user": {
      "displayName": "antara saha",
      "userId": "12600971890078980421"
     },
     "user_tz": 240
    },
    "id": "gGuf7To68JJk"
   },
   "outputs": [],
   "source": [
    "neg_review_data = final_data[final_data[\"sentiments\"] ==\"Negative\"]"
   ]
  },
  {
   "cell_type": "code",
   "execution_count": null,
   "metadata": {
    "id": "VFwl9Kcj8nwU"
   },
   "outputs": [],
   "source": [
    "neg_review_data.head()"
   ]
  },
  {
   "cell_type": "code",
   "execution_count": 48,
   "metadata": {
    "executionInfo": {
     "elapsed": 134,
     "status": "ok",
     "timestamp": 1681563730624,
     "user": {
      "displayName": "antara saha",
      "userId": "12600971890078980421"
     },
     "user_tz": 240
    },
    "id": "B__zqN6S8pIn"
   },
   "outputs": [],
   "source": [
    "reviews = neg_review_data[\"reviews\"].reset_index(drop=True)\n",
    " "
   ]
  },
  {
   "cell_type": "code",
   "execution_count": 49,
   "metadata": {
    "colab": {
     "base_uri": "https://localhost:8080/",
     "height": 101,
     "referenced_widgets": [
      "973c987867d14918b740be80fb2e379d",
      "38be42cf0f8c499b8041247112cf5c64",
      "952091436a3446d98289e7069d50717c",
      "6785fe1b2524447c92036503d45b13a7",
      "06a56b567b504c3dada3b623d421c9f2",
      "f092e3729ad1499c80d8fda3e7eb297d",
      "359f11a1a5e94dd5a3a0008f8e31a474",
      "fa8191dc3f76436fa4a2a439966876c6",
      "e41e4614e01f4f1eb0a287f1e536757c",
      "d2808229aff149279227bffb9e1fefad",
      "dade1572150b4ffeb579dc5a41c856ad"
     ]
    },
    "executionInfo": {
     "elapsed": 449112,
     "status": "ok",
     "timestamp": 1681564185347,
     "user": {
      "displayName": "antara saha",
      "userId": "12600971890078980421"
     },
     "user_tz": 240
    },
    "id": "IZsISjDQ9yAw",
    "outputId": "9ee2dc0c-b25e-4ec2-f58a-a627777fb88c"
   },
   "outputs": [
    {
     "data": {
      "application/vnd.jupyter.widget-view+json": {
       "model_id": "973c987867d14918b740be80fb2e379d",
       "version_major": 2,
       "version_minor": 0
      },
      "text/plain": [
       "Batches:   0%|          | 0/473 [00:00<?, ?it/s]"
      ]
     },
     "metadata": {},
     "output_type": "display_data"
    },
    {
     "name": "stderr",
     "output_type": "stream",
     "text": [
      "2023-04-15 13:08:00,374 - BERTopic - Transformed documents to Embeddings\n",
      "2023-04-15 13:08:48,480 - BERTopic - Reduced dimensionality\n",
      "2023-04-15 13:09:36,868 - BERTopic - Clustered reduced embeddings\n"
     ]
    }
   ],
   "source": [
    "#instantiate BERTopic\n",
    "topic_model = BERTopic(language=\"english\", calculate_probabilities=True, verbose=True)\n",
    "\n",
    "#generate the topics\n",
    "topics, probs = topic_model.fit_transform(reviews)"
   ]
  },
  {
   "cell_type": "code",
   "execution_count": 50,
   "metadata": {
    "colab": {
     "base_uri": "https://localhost:8080/",
     "height": 423
    },
    "executionInfo": {
     "elapsed": 148,
     "status": "ok",
     "timestamp": 1681566104501,
     "user": {
      "displayName": "antara saha",
      "userId": "12600971890078980421"
     },
     "user_tz": 240
    },
    "id": "iEh6k4ra_KyX",
    "outputId": "b59b4750-0192-4cbc-d4a8-4d4f6fbc809b"
   },
   "outputs": [
    {
     "data": {
      "text/html": [
       "\n",
       "  <div id=\"df-93e93d97-4521-49aa-85e1-e424e1388c74\">\n",
       "    <div class=\"colab-df-container\">\n",
       "      <div>\n",
       "<style scoped>\n",
       "    .dataframe tbody tr th:only-of-type {\n",
       "        vertical-align: middle;\n",
       "    }\n",
       "\n",
       "    .dataframe tbody tr th {\n",
       "        vertical-align: top;\n",
       "    }\n",
       "\n",
       "    .dataframe thead th {\n",
       "        text-align: right;\n",
       "    }\n",
       "</style>\n",
       "<table border=\"1\" class=\"dataframe\">\n",
       "  <thead>\n",
       "    <tr style=\"text-align: right;\">\n",
       "      <th></th>\n",
       "      <th>Topic</th>\n",
       "      <th>Count</th>\n",
       "      <th>Name</th>\n",
       "    </tr>\n",
       "  </thead>\n",
       "  <tbody>\n",
       "    <tr>\n",
       "      <th>0</th>\n",
       "      <td>-1</td>\n",
       "      <td>4966</td>\n",
       "      <td>-1_the_to_and_course</td>\n",
       "    </tr>\n",
       "    <tr>\n",
       "      <th>1</th>\n",
       "      <td>0</td>\n",
       "      <td>623</td>\n",
       "      <td>0_quiz_quizzes_questions_answer</td>\n",
       "    </tr>\n",
       "    <tr>\n",
       "      <th>2</th>\n",
       "      <td>1</td>\n",
       "      <td>305</td>\n",
       "      <td>1_python_programming_for_you</td>\n",
       "    </tr>\n",
       "    <tr>\n",
       "      <th>3</th>\n",
       "      <td>2</td>\n",
       "      <td>275</td>\n",
       "      <td>2_labs_lab_broken_instructions</td>\n",
       "    </tr>\n",
       "    <tr>\n",
       "      <th>4</th>\n",
       "      <td>3</td>\n",
       "      <td>270</td>\n",
       "      <td>3_programming_coding_code_for</td>\n",
       "    </tr>\n",
       "    <tr>\n",
       "      <th>...</th>\n",
       "      <td>...</td>\n",
       "      <td>...</td>\n",
       "      <td>...</td>\n",
       "    </tr>\n",
       "    <tr>\n",
       "      <th>192</th>\n",
       "      <td>191</td>\n",
       "      <td>11</td>\n",
       "      <td>191_sould_difficult_omg_head</td>\n",
       "    </tr>\n",
       "    <tr>\n",
       "      <th>193</th>\n",
       "      <td>192</td>\n",
       "      <td>11</td>\n",
       "      <td>192_content_unusual_drags_somewhat</td>\n",
       "    </tr>\n",
       "    <tr>\n",
       "      <th>194</th>\n",
       "      <td>193</td>\n",
       "      <td>10</td>\n",
       "      <td>193_courses_clear_trading_hearing</td>\n",
       "    </tr>\n",
       "    <tr>\n",
       "      <th>195</th>\n",
       "      <td>194</td>\n",
       "      <td>10</td>\n",
       "      <td>194_ended_indifferent_professors_killing</td>\n",
       "    </tr>\n",
       "    <tr>\n",
       "      <th>196</th>\n",
       "      <td>195</td>\n",
       "      <td>10</td>\n",
       "      <td>195_putty_materials_old_material</td>\n",
       "    </tr>\n",
       "  </tbody>\n",
       "</table>\n",
       "<p>197 rows × 3 columns</p>\n",
       "</div>\n",
       "      <button class=\"colab-df-convert\" onclick=\"convertToInteractive('df-93e93d97-4521-49aa-85e1-e424e1388c74')\"\n",
       "              title=\"Convert this dataframe to an interactive table.\"\n",
       "              style=\"display:none;\">\n",
       "        \n",
       "  <svg xmlns=\"http://www.w3.org/2000/svg\" height=\"24px\"viewBox=\"0 0 24 24\"\n",
       "       width=\"24px\">\n",
       "    <path d=\"M0 0h24v24H0V0z\" fill=\"none\"/>\n",
       "    <path d=\"M18.56 5.44l.94 2.06.94-2.06 2.06-.94-2.06-.94-.94-2.06-.94 2.06-2.06.94zm-11 1L8.5 8.5l.94-2.06 2.06-.94-2.06-.94L8.5 2.5l-.94 2.06-2.06.94zm10 10l.94 2.06.94-2.06 2.06-.94-2.06-.94-.94-2.06-.94 2.06-2.06.94z\"/><path d=\"M17.41 7.96l-1.37-1.37c-.4-.4-.92-.59-1.43-.59-.52 0-1.04.2-1.43.59L10.3 9.45l-7.72 7.72c-.78.78-.78 2.05 0 2.83L4 21.41c.39.39.9.59 1.41.59.51 0 1.02-.2 1.41-.59l7.78-7.78 2.81-2.81c.8-.78.8-2.07 0-2.86zM5.41 20L4 18.59l7.72-7.72 1.47 1.35L5.41 20z\"/>\n",
       "  </svg>\n",
       "      </button>\n",
       "      \n",
       "  <style>\n",
       "    .colab-df-container {\n",
       "      display:flex;\n",
       "      flex-wrap:wrap;\n",
       "      gap: 12px;\n",
       "    }\n",
       "\n",
       "    .colab-df-convert {\n",
       "      background-color: #E8F0FE;\n",
       "      border: none;\n",
       "      border-radius: 50%;\n",
       "      cursor: pointer;\n",
       "      display: none;\n",
       "      fill: #1967D2;\n",
       "      height: 32px;\n",
       "      padding: 0 0 0 0;\n",
       "      width: 32px;\n",
       "    }\n",
       "\n",
       "    .colab-df-convert:hover {\n",
       "      background-color: #E2EBFA;\n",
       "      box-shadow: 0px 1px 2px rgba(60, 64, 67, 0.3), 0px 1px 3px 1px rgba(60, 64, 67, 0.15);\n",
       "      fill: #174EA6;\n",
       "    }\n",
       "\n",
       "    [theme=dark] .colab-df-convert {\n",
       "      background-color: #3B4455;\n",
       "      fill: #D2E3FC;\n",
       "    }\n",
       "\n",
       "    [theme=dark] .colab-df-convert:hover {\n",
       "      background-color: #434B5C;\n",
       "      box-shadow: 0px 1px 3px 1px rgba(0, 0, 0, 0.15);\n",
       "      filter: drop-shadow(0px 1px 2px rgba(0, 0, 0, 0.3));\n",
       "      fill: #FFFFFF;\n",
       "    }\n",
       "  </style>\n",
       "\n",
       "      <script>\n",
       "        const buttonEl =\n",
       "          document.querySelector('#df-93e93d97-4521-49aa-85e1-e424e1388c74 button.colab-df-convert');\n",
       "        buttonEl.style.display =\n",
       "          google.colab.kernel.accessAllowed ? 'block' : 'none';\n",
       "\n",
       "        async function convertToInteractive(key) {\n",
       "          const element = document.querySelector('#df-93e93d97-4521-49aa-85e1-e424e1388c74');\n",
       "          const dataTable =\n",
       "            await google.colab.kernel.invokeFunction('convertToInteractive',\n",
       "                                                     [key], {});\n",
       "          if (!dataTable) return;\n",
       "\n",
       "          const docLinkHtml = 'Like what you see? Visit the ' +\n",
       "            '<a target=\"_blank\" href=https://colab.research.google.com/notebooks/data_table.ipynb>data table notebook</a>'\n",
       "            + ' to learn more about interactive tables.';\n",
       "          element.innerHTML = '';\n",
       "          dataTable['output_type'] = 'display_data';\n",
       "          await google.colab.output.renderOutput(dataTable, element);\n",
       "          const docLink = document.createElement('div');\n",
       "          docLink.innerHTML = docLinkHtml;\n",
       "          element.appendChild(docLink);\n",
       "        }\n",
       "      </script>\n",
       "    </div>\n",
       "  </div>\n",
       "  "
      ],
      "text/plain": [
       "     Topic  Count                                      Name\n",
       "0       -1   4966                      -1_the_to_and_course\n",
       "1        0    623           0_quiz_quizzes_questions_answer\n",
       "2        1    305              1_python_programming_for_you\n",
       "3        2    275            2_labs_lab_broken_instructions\n",
       "4        3    270             3_programming_coding_code_for\n",
       "..     ...    ...                                       ...\n",
       "192    191     11              191_sould_difficult_omg_head\n",
       "193    192     11        192_content_unusual_drags_somewhat\n",
       "194    193     10         193_courses_clear_trading_hearing\n",
       "195    194     10  194_ended_indifferent_professors_killing\n",
       "196    195     10          195_putty_materials_old_material\n",
       "\n",
       "[197 rows x 3 columns]"
      ]
     },
     "execution_count": 50,
     "metadata": {},
     "output_type": "execute_result"
    }
   ],
   "source": [
    "topic_model.get_topic_info()"
   ]
  },
  {
   "cell_type": "code",
   "execution_count": 51,
   "metadata": {
    "colab": {
     "base_uri": "https://localhost:8080/",
     "height": 236
    },
    "executionInfo": {
     "elapsed": 941,
     "status": "error",
     "timestamp": 1681566398328,
     "user": {
      "displayName": "antara saha",
      "userId": "12600971890078980421"
     },
     "user_tz": 240
    },
    "id": "33jruCdBJnpg",
    "outputId": "c5ef521e-b91e-4c61-b078-af852da03a0f"
   },
   "outputs": [
    {
     "ename": "TypeError",
     "evalue": "ignored",
     "output_type": "error",
     "traceback": [
      "\u001b[0;31m---------------------------------------------------------------------------\u001b[0m",
      "\u001b[0;31mTypeError\u001b[0m                                 Traceback (most recent call last)",
      "\u001b[0;32m<ipython-input-51-9c856d50c748>\u001b[0m in \u001b[0;36m<cell line: 17>\u001b[0;34m()\u001b[0m\n\u001b[1;32m     15\u001b[0m \u001b[0;34m\u001b[0m\u001b[0m\n\u001b[1;32m     16\u001b[0m \u001b[0;31m# All steps together\u001b[0m\u001b[0;34m\u001b[0m\u001b[0;34m\u001b[0m\u001b[0m\n\u001b[0;32m---> 17\u001b[0;31m topic_model = BERTopic(\n\u001b[0m\u001b[1;32m     18\u001b[0m   \u001b[0membedding_model\u001b[0m\u001b[0;34m=\u001b[0m\u001b[0membedding_model\u001b[0m\u001b[0;34m,\u001b[0m    \u001b[0;31m# Step 1 - Extract embeddings\u001b[0m\u001b[0;34m\u001b[0m\u001b[0;34m\u001b[0m\u001b[0m\n\u001b[1;32m     19\u001b[0m   \u001b[0mumap_model\u001b[0m\u001b[0;34m=\u001b[0m\u001b[0mumap_model\u001b[0m\u001b[0;34m,\u001b[0m              \u001b[0;31m# Step 2 - Reduce dimensionality\u001b[0m\u001b[0;34m\u001b[0m\u001b[0;34m\u001b[0m\u001b[0m\n",
      "\u001b[0;31mTypeError\u001b[0m: __init__() got an unexpected keyword argument 'diversity'"
     ]
    }
   ],
   "source": [
    "# Step 1 - Extract embeddings\n",
    "embedding_model = SentenceTransformer(\"all-MiniLM-L6-v2\")\n",
    "\n",
    "# Step 2 - Reduce dimensionality\n",
    "umap_model = UMAP(n_neighbors=15, n_components=5, min_dist=0.0, metric='cosine')\n",
    "\n",
    "# Step 3 - Cluster reduced embeddings\n",
    "hdbscan_model = HDBSCAN(min_cluster_size=15, metric='euclidean', cluster_selection_method='eom', prediction_data=True)\n",
    "\n",
    "# Step 4 - Tokenize topics\n",
    "vectorizer_model = CountVectorizer(stop_words=\"english\")\n",
    "\n",
    "# Step 5 - Create topic representation\n",
    "ctfidf_model = ClassTfidfTransformer()\n",
    "\n",
    "# All steps together\n",
    "topic_model = BERTopic(\n",
    "  embedding_model=embedding_model,    # Step 1 - Extract embeddings\n",
    "  umap_model=umap_model,              # Step 2 - Reduce dimensionality\n",
    "  hdbscan_model=hdbscan_model,        # Step 3 - Cluster reduced embeddings\n",
    "  vectorizer_model=vectorizer_model,  # Step 4 - Tokenize topics\n",
    "  ctfidf_model=ctfidf_model,          # Step 5 - Extract topic words\n",
    "  diversity=0.5,                      # Diversify topic words\n",
    "  calculate_probabilities=True,        \n",
    "  verbose=True\n",
    ")\n",
    "\n",
    "topics, probs = topic_model.fit_transform(reviews)\n",
    "topic_model.get_topic_info()"
   ]
  },
  {
   "cell_type": "code",
   "execution_count": null,
   "metadata": {
    "id": "IHXgcgumKvMr"
   },
   "outputs": [],
   "source": []
  }
 ],
 "metadata": {
  "colab": {
   "authorship_tag": "ABX9TyPaCZ4Sfl+A85Oiel2JythT",
   "mount_file_id": "1xQlgViYEExLDZ0GWAsR_P-rSlGcYX0Ie",
   "provenance": []
  },
  "gpuClass": "standard",
  "kernelspec": {
   "display_name": "Python 3 (ipykernel)",
   "language": "python",
   "name": "python3"
  },
  "language_info": {
   "codemirror_mode": {
    "name": "ipython",
    "version": 3
   },
   "file_extension": ".py",
   "mimetype": "text/x-python",
   "name": "python",
   "nbconvert_exporter": "python",
   "pygments_lexer": "ipython3",
   "version": "3.10.11"
  },
  "widgets": {
   "application/vnd.jupyter.widget-state+json": {
    "06a56b567b504c3dada3b623d421c9f2": {
     "model_module": "@jupyter-widgets/base",
     "model_module_version": "1.2.0",
     "model_name": "LayoutModel",
     "state": {
      "_model_module": "@jupyter-widgets/base",
      "_model_module_version": "1.2.0",
      "_model_name": "LayoutModel",
      "_view_count": null,
      "_view_module": "@jupyter-widgets/base",
      "_view_module_version": "1.2.0",
      "_view_name": "LayoutView",
      "align_content": null,
      "align_items": null,
      "align_self": null,
      "border": null,
      "bottom": null,
      "display": null,
      "flex": null,
      "flex_flow": null,
      "grid_area": null,
      "grid_auto_columns": null,
      "grid_auto_flow": null,
      "grid_auto_rows": null,
      "grid_column": null,
      "grid_gap": null,
      "grid_row": null,
      "grid_template_areas": null,
      "grid_template_columns": null,
      "grid_template_rows": null,
      "height": null,
      "justify_content": null,
      "justify_items": null,
      "left": null,
      "margin": null,
      "max_height": null,
      "max_width": null,
      "min_height": null,
      "min_width": null,
      "object_fit": null,
      "object_position": null,
      "order": null,
      "overflow": null,
      "overflow_x": null,
      "overflow_y": null,
      "padding": null,
      "right": null,
      "top": null,
      "visibility": null,
      "width": null
     }
    },
    "359f11a1a5e94dd5a3a0008f8e31a474": {
     "model_module": "@jupyter-widgets/controls",
     "model_module_version": "1.5.0",
     "model_name": "DescriptionStyleModel",
     "state": {
      "_model_module": "@jupyter-widgets/controls",
      "_model_module_version": "1.5.0",
      "_model_name": "DescriptionStyleModel",
      "_view_count": null,
      "_view_module": "@jupyter-widgets/base",
      "_view_module_version": "1.2.0",
      "_view_name": "StyleView",
      "description_width": ""
     }
    },
    "38be42cf0f8c499b8041247112cf5c64": {
     "model_module": "@jupyter-widgets/controls",
     "model_module_version": "1.5.0",
     "model_name": "HTMLModel",
     "state": {
      "_dom_classes": [],
      "_model_module": "@jupyter-widgets/controls",
      "_model_module_version": "1.5.0",
      "_model_name": "HTMLModel",
      "_view_count": null,
      "_view_module": "@jupyter-widgets/controls",
      "_view_module_version": "1.5.0",
      "_view_name": "HTMLView",
      "description": "",
      "description_tooltip": null,
      "layout": "IPY_MODEL_f092e3729ad1499c80d8fda3e7eb297d",
      "placeholder": "​",
      "style": "IPY_MODEL_359f11a1a5e94dd5a3a0008f8e31a474",
      "value": "Batches: 100%"
     }
    },
    "6785fe1b2524447c92036503d45b13a7": {
     "model_module": "@jupyter-widgets/controls",
     "model_module_version": "1.5.0",
     "model_name": "HTMLModel",
     "state": {
      "_dom_classes": [],
      "_model_module": "@jupyter-widgets/controls",
      "_model_module_version": "1.5.0",
      "_model_name": "HTMLModel",
      "_view_count": null,
      "_view_module": "@jupyter-widgets/controls",
      "_view_module_version": "1.5.0",
      "_view_name": "HTMLView",
      "description": "",
      "description_tooltip": null,
      "layout": "IPY_MODEL_d2808229aff149279227bffb9e1fefad",
      "placeholder": "​",
      "style": "IPY_MODEL_dade1572150b4ffeb579dc5a41c856ad",
      "value": " 473/473 [05:43&lt;00:00, 10.78it/s]"
     }
    },
    "952091436a3446d98289e7069d50717c": {
     "model_module": "@jupyter-widgets/controls",
     "model_module_version": "1.5.0",
     "model_name": "FloatProgressModel",
     "state": {
      "_dom_classes": [],
      "_model_module": "@jupyter-widgets/controls",
      "_model_module_version": "1.5.0",
      "_model_name": "FloatProgressModel",
      "_view_count": null,
      "_view_module": "@jupyter-widgets/controls",
      "_view_module_version": "1.5.0",
      "_view_name": "ProgressView",
      "bar_style": "success",
      "description": "",
      "description_tooltip": null,
      "layout": "IPY_MODEL_fa8191dc3f76436fa4a2a439966876c6",
      "max": 473,
      "min": 0,
      "orientation": "horizontal",
      "style": "IPY_MODEL_e41e4614e01f4f1eb0a287f1e536757c",
      "value": 473
     }
    },
    "973c987867d14918b740be80fb2e379d": {
     "model_module": "@jupyter-widgets/controls",
     "model_module_version": "1.5.0",
     "model_name": "HBoxModel",
     "state": {
      "_dom_classes": [],
      "_model_module": "@jupyter-widgets/controls",
      "_model_module_version": "1.5.0",
      "_model_name": "HBoxModel",
      "_view_count": null,
      "_view_module": "@jupyter-widgets/controls",
      "_view_module_version": "1.5.0",
      "_view_name": "HBoxView",
      "box_style": "",
      "children": [
       "IPY_MODEL_38be42cf0f8c499b8041247112cf5c64",
       "IPY_MODEL_952091436a3446d98289e7069d50717c",
       "IPY_MODEL_6785fe1b2524447c92036503d45b13a7"
      ],
      "layout": "IPY_MODEL_06a56b567b504c3dada3b623d421c9f2"
     }
    },
    "d2808229aff149279227bffb9e1fefad": {
     "model_module": "@jupyter-widgets/base",
     "model_module_version": "1.2.0",
     "model_name": "LayoutModel",
     "state": {
      "_model_module": "@jupyter-widgets/base",
      "_model_module_version": "1.2.0",
      "_model_name": "LayoutModel",
      "_view_count": null,
      "_view_module": "@jupyter-widgets/base",
      "_view_module_version": "1.2.0",
      "_view_name": "LayoutView",
      "align_content": null,
      "align_items": null,
      "align_self": null,
      "border": null,
      "bottom": null,
      "display": null,
      "flex": null,
      "flex_flow": null,
      "grid_area": null,
      "grid_auto_columns": null,
      "grid_auto_flow": null,
      "grid_auto_rows": null,
      "grid_column": null,
      "grid_gap": null,
      "grid_row": null,
      "grid_template_areas": null,
      "grid_template_columns": null,
      "grid_template_rows": null,
      "height": null,
      "justify_content": null,
      "justify_items": null,
      "left": null,
      "margin": null,
      "max_height": null,
      "max_width": null,
      "min_height": null,
      "min_width": null,
      "object_fit": null,
      "object_position": null,
      "order": null,
      "overflow": null,
      "overflow_x": null,
      "overflow_y": null,
      "padding": null,
      "right": null,
      "top": null,
      "visibility": null,
      "width": null
     }
    },
    "dade1572150b4ffeb579dc5a41c856ad": {
     "model_module": "@jupyter-widgets/controls",
     "model_module_version": "1.5.0",
     "model_name": "DescriptionStyleModel",
     "state": {
      "_model_module": "@jupyter-widgets/controls",
      "_model_module_version": "1.5.0",
      "_model_name": "DescriptionStyleModel",
      "_view_count": null,
      "_view_module": "@jupyter-widgets/base",
      "_view_module_version": "1.2.0",
      "_view_name": "StyleView",
      "description_width": ""
     }
    },
    "e41e4614e01f4f1eb0a287f1e536757c": {
     "model_module": "@jupyter-widgets/controls",
     "model_module_version": "1.5.0",
     "model_name": "ProgressStyleModel",
     "state": {
      "_model_module": "@jupyter-widgets/controls",
      "_model_module_version": "1.5.0",
      "_model_name": "ProgressStyleModel",
      "_view_count": null,
      "_view_module": "@jupyter-widgets/base",
      "_view_module_version": "1.2.0",
      "_view_name": "StyleView",
      "bar_color": null,
      "description_width": ""
     }
    },
    "f092e3729ad1499c80d8fda3e7eb297d": {
     "model_module": "@jupyter-widgets/base",
     "model_module_version": "1.2.0",
     "model_name": "LayoutModel",
     "state": {
      "_model_module": "@jupyter-widgets/base",
      "_model_module_version": "1.2.0",
      "_model_name": "LayoutModel",
      "_view_count": null,
      "_view_module": "@jupyter-widgets/base",
      "_view_module_version": "1.2.0",
      "_view_name": "LayoutView",
      "align_content": null,
      "align_items": null,
      "align_self": null,
      "border": null,
      "bottom": null,
      "display": null,
      "flex": null,
      "flex_flow": null,
      "grid_area": null,
      "grid_auto_columns": null,
      "grid_auto_flow": null,
      "grid_auto_rows": null,
      "grid_column": null,
      "grid_gap": null,
      "grid_row": null,
      "grid_template_areas": null,
      "grid_template_columns": null,
      "grid_template_rows": null,
      "height": null,
      "justify_content": null,
      "justify_items": null,
      "left": null,
      "margin": null,
      "max_height": null,
      "max_width": null,
      "min_height": null,
      "min_width": null,
      "object_fit": null,
      "object_position": null,
      "order": null,
      "overflow": null,
      "overflow_x": null,
      "overflow_y": null,
      "padding": null,
      "right": null,
      "top": null,
      "visibility": null,
      "width": null
     }
    },
    "fa8191dc3f76436fa4a2a439966876c6": {
     "model_module": "@jupyter-widgets/base",
     "model_module_version": "1.2.0",
     "model_name": "LayoutModel",
     "state": {
      "_model_module": "@jupyter-widgets/base",
      "_model_module_version": "1.2.0",
      "_model_name": "LayoutModel",
      "_view_count": null,
      "_view_module": "@jupyter-widgets/base",
      "_view_module_version": "1.2.0",
      "_view_name": "LayoutView",
      "align_content": null,
      "align_items": null,
      "align_self": null,
      "border": null,
      "bottom": null,
      "display": null,
      "flex": null,
      "flex_flow": null,
      "grid_area": null,
      "grid_auto_columns": null,
      "grid_auto_flow": null,
      "grid_auto_rows": null,
      "grid_column": null,
      "grid_gap": null,
      "grid_row": null,
      "grid_template_areas": null,
      "grid_template_columns": null,
      "grid_template_rows": null,
      "height": null,
      "justify_content": null,
      "justify_items": null,
      "left": null,
      "margin": null,
      "max_height": null,
      "max_width": null,
      "min_height": null,
      "min_width": null,
      "object_fit": null,
      "object_position": null,
      "order": null,
      "overflow": null,
      "overflow_x": null,
      "overflow_y": null,
      "padding": null,
      "right": null,
      "top": null,
      "visibility": null,
      "width": null
     }
    }
   }
  }
 },
 "nbformat": 4,
 "nbformat_minor": 4
}
