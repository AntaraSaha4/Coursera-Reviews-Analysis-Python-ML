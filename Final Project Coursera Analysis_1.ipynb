{
 "cells": [
  {
   "cell_type": "markdown",
   "id": "Ov5cul5wUm9o",
   "metadata": {
    "id": "Ov5cul5wUm9o"
   },
   "source": [
    "# Step 1: Merge the data in a single file\n",
    "\n",
    "**Required Libraries:**\n",
    "  \n",
    "  !pip install textblob\n",
    "\n",
    "  !pip install langdetect\n",
    "\n",
    "  !pip install torch transformers datasets"
   ]
  },
  {
   "cell_type": "code",
   "execution_count": 2,
   "id": "faDTLqoQstmE",
   "metadata": {
    "colab": {
     "base_uri": "https://localhost:8080/"
    },
    "executionInfo": {
     "elapsed": 4202,
     "status": "ok",
     "timestamp": 1681906587931,
     "user": {
      "displayName": "antara saha",
      "userId": "12600971890078980421"
     },
     "user_tz": 240
    },
    "id": "faDTLqoQstmE",
    "outputId": "80bd5cd7-ebc1-4313-f68c-dcddd3ff11b0"
   },
   "outputs": [
    {
     "name": "stdout",
     "output_type": "stream",
     "text": [
      "Looking in indexes: https://pypi.org/simple, https://us-python.pkg.dev/colab-wheels/public/simple/\n",
      "Requirement already satisfied: tqdm in /usr/local/lib/python3.9/dist-packages (4.65.0)\n"
     ]
    }
   ],
   "source": [
    "!pip install tqdm"
   ]
  },
  {
   "cell_type": "code",
   "execution_count": 3,
   "id": "bqiCIONW0BA6",
   "metadata": {
    "colab": {
     "base_uri": "https://localhost:8080/"
    },
    "executionInfo": {
     "elapsed": 9816,
     "status": "ok",
     "timestamp": 1681906601104,
     "user": {
      "displayName": "antara saha",
      "userId": "12600971890078980421"
     },
     "user_tz": 240
    },
    "id": "bqiCIONW0BA6",
    "outputId": "81369bc7-95fd-4a6c-ad88-617f4cdfe192"
   },
   "outputs": [
    {
     "name": "stdout",
     "output_type": "stream",
     "text": [
      "Looking in indexes: https://pypi.org/simple, https://us-python.pkg.dev/colab-wheels/public/simple/\n",
      "Requirement already satisfied: textblob in /usr/local/lib/python3.9/dist-packages (0.17.1)\n",
      "Requirement already satisfied: nltk>=3.1 in /usr/local/lib/python3.9/dist-packages (from textblob) (3.8.1)\n",
      "Requirement already satisfied: click in /usr/local/lib/python3.9/dist-packages (from nltk>=3.1->textblob) (8.1.3)\n",
      "Requirement already satisfied: tqdm in /usr/local/lib/python3.9/dist-packages (from nltk>=3.1->textblob) (4.65.0)\n",
      "Requirement already satisfied: joblib in /usr/local/lib/python3.9/dist-packages (from nltk>=3.1->textblob) (1.2.0)\n",
      "Requirement already satisfied: regex>=2021.8.3 in /usr/local/lib/python3.9/dist-packages (from nltk>=3.1->textblob) (2022.10.31)\n"
     ]
    }
   ],
   "source": [
    "!pip install textblob"
   ]
  },
  {
   "cell_type": "code",
   "execution_count": null,
   "id": "Dt027sNQLqxi",
   "metadata": {
    "colab": {
     "base_uri": "https://localhost:8080/"
    },
    "executionInfo": {
     "elapsed": 7567,
     "status": "ok",
     "timestamp": 1681769497649,
     "user": {
      "displayName": "antara saha",
      "userId": "12600971890078980421"
     },
     "user_tz": 240
    },
    "id": "Dt027sNQLqxi",
    "outputId": "f2f3ca47-ecba-4e0c-a58f-04aa325e5b7b"
   },
   "outputs": [
    {
     "name": "stdout",
     "output_type": "stream",
     "text": [
      "Looking in indexes: https://pypi.org/simple, https://us-python.pkg.dev/colab-wheels/public/simple/\n",
      "Collecting langdetect\n",
      "  Downloading langdetect-1.0.9.tar.gz (981 kB)\n",
      "\u001b[2K     \u001b[90m━━━━━━━━━━━━━━━━━━━━━━━━━━━━━━━━━━━━━━\u001b[0m \u001b[32m981.5/981.5 kB\u001b[0m \u001b[31m13.5 MB/s\u001b[0m eta \u001b[36m0:00:00\u001b[0m\n",
      "\u001b[?25h  Preparing metadata (setup.py) ... \u001b[?25l\u001b[?25hdone\n",
      "Requirement already satisfied: six in /usr/local/lib/python3.9/dist-packages (from langdetect) (1.16.0)\n",
      "Building wheels for collected packages: langdetect\n",
      "  Building wheel for langdetect (setup.py) ... \u001b[?25l\u001b[?25hdone\n",
      "  Created wheel for langdetect: filename=langdetect-1.0.9-py3-none-any.whl size=993243 sha256=979c0662c8f03027df3ab823aceb94290576f41564a9824e956b5563104d3aee\n",
      "  Stored in directory: /root/.cache/pip/wheels/d1/c1/d9/7e068de779d863bc8f8fc9467d85e25cfe47fa5051fff1a1bb\n",
      "Successfully built langdetect\n",
      "Installing collected packages: langdetect\n",
      "Successfully installed langdetect-1.0.9\n"
     ]
    }
   ],
   "source": [
    "!pip install langdetect"
   ]
  },
  {
   "cell_type": "code",
   "execution_count": null,
   "id": "pwOKiAJKYs31",
   "metadata": {
    "colab": {
     "base_uri": "https://localhost:8080/"
    },
    "executionInfo": {
     "elapsed": 7208,
     "status": "ok",
     "timestamp": 1681570074868,
     "user": {
      "displayName": "antara saha",
      "userId": "12600971890078980421"
     },
     "user_tz": 240
    },
    "id": "pwOKiAJKYs31",
    "outputId": "6b2c992d-cec6-42a1-8ef9-d1c360ddfac5"
   },
   "outputs": [
    {
     "name": "stdout",
     "output_type": "stream",
     "text": [
      "Looking in indexes: https://pypi.org/simple, https://us-python.pkg.dev/colab-wheels/public/simple/\n",
      "Collecting texttable\n",
      "  Downloading texttable-1.6.7-py2.py3-none-any.whl (10 kB)\n",
      "Installing collected packages: texttable\n",
      "Successfully installed texttable-1.6.7\n"
     ]
    }
   ],
   "source": [
    "!pip install texttable"
   ]
  },
  {
   "cell_type": "code",
   "execution_count": 1,
   "id": "A6XPZcknzm2N",
   "metadata": {
    "colab": {
     "base_uri": "https://localhost:8080/"
    },
    "executionInfo": {
     "elapsed": 27013,
     "status": "ok",
     "timestamp": 1681906579080,
     "user": {
      "displayName": "antara saha",
      "userId": "12600971890078980421"
     },
     "user_tz": 240
    },
    "id": "A6XPZcknzm2N",
    "outputId": "03f9665d-b0f8-41fb-8db0-ea2b120be297"
   },
   "outputs": [
    {
     "name": "stdout",
     "output_type": "stream",
     "text": [
      "Mounted at /content/drive\n"
     ]
    }
   ],
   "source": [
    "# To mount google drive\n",
    "from google.colab import drive\n",
    "drive.mount('/content/drive')"
   ]
  },
  {
   "cell_type": "code",
   "execution_count": 4,
   "id": "06185583-26ba-4263-9364-21af517ed7a1",
   "metadata": {
    "colab": {
     "base_uri": "https://localhost:8080/"
    },
    "executionInfo": {
     "elapsed": 21561,
     "status": "ok",
     "timestamp": 1681906631476,
     "user": {
      "displayName": "antara saha",
      "userId": "12600971890078980421"
     },
     "user_tz": 240
    },
    "id": "06185583-26ba-4263-9364-21af517ed7a1",
    "outputId": "6af42233-0c03-4a20-f622-53c49da49502"
   },
   "outputs": [
    {
     "name": "stderr",
     "output_type": "stream",
     "text": [
      "[nltk_data] Downloading package stopwords to /root/nltk_data...\n",
      "[nltk_data]   Unzipping corpora/stopwords.zip.\n",
      "[nltk_data] Downloading package wordnet to /root/nltk_data...\n"
     ]
    }
   ],
   "source": [
    "# Import Packages\n",
    "import matplotlib.pyplot as plt\n",
    "import pandas as pd\n",
    "import numpy as np\n",
    "import re\n",
    "from tqdm import tqdm\n",
    "tqdm.pandas()\n",
    "import nltk\n",
    "from nltk.corpus import stopwords\n",
    "from nltk.stem import WordNetLemmatizer\n",
    "import spacy\n",
    "nltk.download('stopwords')\n",
    "nltk.download('wordnet')\n",
    "from textblob import TextBlob\n",
    "#from langdetect import detect\n",
    "#from langdetect import LangDetectException"
   ]
  },
  {
   "cell_type": "markdown",
   "id": "pVtJ8V5-KPHP",
   "metadata": {
    "id": "pVtJ8V5-KPHP"
   },
   "source": [
    "## English Review detection steps:"
   ]
  },
  {
   "cell_type": "code",
   "execution_count": null,
   "id": "5M5Y2OBu2qXP",
   "metadata": {
    "id": "5M5Y2OBu2qXP"
   },
   "outputs": [],
   "source": [
    "# Load Course Reviews Data\n",
    "Course_reviews = pd.read_csv('/content/drive/MyDrive/CMU SUBJECTS/DATA/Course_reviews.csv')"
   ]
  },
  {
   "cell_type": "code",
   "execution_count": null,
   "id": "E_zvAea2LX9q",
   "metadata": {
    "id": "E_zvAea2LX9q"
   },
   "outputs": [],
   "source": [
    "def detect_language(text):\n",
    "    try:\n",
    "        return detect(text)\n",
    "    except LangDetectException:\n",
    "        return None"
   ]
  },
  {
   "cell_type": "code",
   "execution_count": null,
   "id": "QjC-NuERzoIi",
   "metadata": {
    "id": "QjC-NuERzoIi"
   },
   "outputs": [],
   "source": [
    "Course_reviews['lang_detect'] = Course_reviews['reviews'].progress_apply(lambda x: detect_language(str(x)))"
   ]
  },
  {
   "cell_type": "code",
   "execution_count": null,
   "id": "A84yin56zpEf",
   "metadata": {
    "id": "A84yin56zpEf"
   },
   "outputs": [],
   "source": [
    "# Only select english reviews and load into csv for further use.\n",
    "Course_reviews_Eng = Course_reviews[Course_reviews['lang_detect'] == 'en']\n",
    "Course_reviews_Eng.to_csv('/content/drive/MyDrive/CMU SUBJECTS/DATA/Course_reviews_Eng.csv', index=False)"
   ]
  },
  {
   "cell_type": "markdown",
   "id": "JxUEkg6f883s",
   "metadata": {
    "id": "JxUEkg6f883s"
   },
   "source": [
    "## Pre Processing the course review data\n",
    "\n",
    "\n",
    "1.   Remove duplicate rows\n",
    "2.  Convert word with n't to not\n",
    "3.  Remove any special character\n",
    "4. Adding sentiment value and sentiment score for the review \n",
    "\n"
   ]
  },
  {
   "cell_type": "code",
   "execution_count": 48,
   "id": "5d0a1525-1eef-4847-81dc-f760a1eeae7a",
   "metadata": {
    "executionInfo": {
     "elapsed": 4809,
     "status": "ok",
     "timestamp": 1681918014096,
     "user": {
      "displayName": "antara saha",
      "userId": "12600971890078980421"
     },
     "user_tz": 240
    },
    "id": "5d0a1525-1eef-4847-81dc-f760a1eeae7a"
   },
   "outputs": [],
   "source": [
    "# Load Course Reviews Data\n",
    "Course_reviews = pd.read_csv('/content/drive/MyDrive/CMU SUBJECTS/DATA/Clean Data/Course_reviews_Eng.csv')"
   ]
  },
  {
   "cell_type": "code",
   "execution_count": 49,
   "id": "_MnAkroCF9W5",
   "metadata": {
    "colab": {
     "base_uri": "https://localhost:8080/"
    },
    "executionInfo": {
     "elapsed": 1295,
     "status": "ok",
     "timestamp": 1681918016731,
     "user": {
      "displayName": "antara saha",
      "userId": "12600971890078980421"
     },
     "user_tz": 240
    },
    "id": "_MnAkroCF9W5",
    "outputId": "535a9295-bf00-430e-d245-076b50b73f86"
   },
   "outputs": [
    {
     "name": "stdout",
     "output_type": "stream",
     "text": [
      "Before dropping duplicate rows: 1190399\n",
      "After dropping duplicate rows: 424417\n"
     ]
    }
   ],
   "source": [
    "# Drop duplicates records\n",
    "print(\"Before dropping duplicate rows:\",len(Course_reviews))\n",
    "Course_reviews = Course_reviews.drop_duplicates()\n",
    "print(\"After dropping duplicate rows:\",len(Course_reviews))"
   ]
  },
  {
   "cell_type": "code",
   "execution_count": 50,
   "id": "ALNkZgZ9c8Gu",
   "metadata": {
    "executionInfo": {
     "elapsed": 843,
     "status": "ok",
     "timestamp": 1681918019234,
     "user": {
      "displayName": "antara saha",
      "userId": "12600971890078980421"
     },
     "user_tz": 240
    },
    "id": "ALNkZgZ9c8Gu"
   },
   "outputs": [],
   "source": [
    "# Lowercasing \n",
    "Course_reviews['clean_reviews']=Course_reviews['reviews'].str.lower()"
   ]
  },
  {
   "cell_type": "code",
   "execution_count": 54,
   "id": "CMFklWQ8CHGW",
   "metadata": {
    "executionInfo": {
     "elapsed": 1559,
     "status": "ok",
     "timestamp": 1681918104143,
     "user": {
      "displayName": "antara saha",
      "userId": "12600971890078980421"
     },
     "user_tz": 240
    },
    "id": "CMFklWQ8CHGW"
   },
   "outputs": [],
   "source": [
    "# Remove Stopwords & Lemmatization:\n",
    "import spacy\n",
    "from nltk.corpus import stopwords\n",
    "\n",
    "nlp = spacy.load(\"en_core_web_sm\", disable=['parser', 'ner'])\n",
    "\n",
    "def lemmatization_stopwords(text):\n",
    "    doc = nlp(text)\n",
    "\n",
    "    # Custom Stop words\n",
    "    stop_words = set(stopwords.words('english'))\n",
    "    # Define a list of negation words and their contractions\n",
    "    negation_words = [\"not\", \"n't\", \"no\", \"never\", \"none\", \"neither\", \"nowhere\", \"nothing\",\n",
    "                    \"don't\", \"doesn't\", \"didn't\", \"isn't\", \"aren't\", \"wasn't\", \"weren't\",\n",
    "                    \"haven't\", \"hasn't\", \"hadn't\", \"won't\", \"wouldn't\", \"can't\", \"couldn't\",\n",
    "                    \"shouldn't\"]\n",
    "        \n",
    "    # Remove all the negation words and their contractions from stop words\n",
    "    custom_stop_words = set([word for word in stop_words if word.lower() not in negation_words])\n",
    "    \n",
    "    #tokens = [token.text.strip() for token in doc if token.text not in custom_stop_words]# and len(token.text) > 2]\n",
    "    tokens = [token.lemma_ for token in doc if token.text not in custom_stop_words]\n",
    "    return \" \".join(tokens)"
   ]
  },
  {
   "cell_type": "code",
   "execution_count": 55,
   "id": "3wTssGfgCaDg",
   "metadata": {
    "colab": {
     "base_uri": "https://localhost:8080/"
    },
    "executionInfo": {
     "elapsed": 2603927,
     "status": "ok",
     "timestamp": 1681920709295,
     "user": {
      "displayName": "antara saha",
      "userId": "12600971890078980421"
     },
     "user_tz": 240
    },
    "id": "3wTssGfgCaDg",
    "outputId": "4662b6b2-251d-4ab8-fda3-6851b5c8a8b2"
   },
   "outputs": [
    {
     "name": "stderr",
     "output_type": "stream",
     "text": [
      "100%|██████████| 424417/424417 [43:23<00:00, 163.01it/s]\n"
     ]
    }
   ],
   "source": [
    "Course_reviews['clean_reviews'] = Course_reviews['clean_reviews'].progress_apply(lemmatization_stopwords)"
   ]
  },
  {
   "cell_type": "code",
   "execution_count": 56,
   "id": "T5MsVqXSqX21",
   "metadata": {
    "colab": {
     "base_uri": "https://localhost:8080/"
    },
    "executionInfo": {
     "elapsed": 4027,
     "status": "ok",
     "timestamp": 1681920815339,
     "user": {
      "displayName": "antara saha",
      "userId": "12600971890078980421"
     },
     "user_tz": 240
    },
    "id": "T5MsVqXSqX21",
    "outputId": "100a3ae4-ba36-493a-d638-1b07dd13b22a"
   },
   "outputs": [
    {
     "name": "stderr",
     "output_type": "stream",
     "text": [
      "100%|██████████| 424417/424417 [00:00<00:00, 463418.33it/s]\n",
      "100%|██████████| 424417/424417 [00:01<00:00, 264633.69it/s]\n",
      "100%|██████████| 424417/424417 [00:01<00:00, 412204.10it/s]\n"
     ]
    }
   ],
   "source": [
    "# Removing Non Alphabets characters from review\n",
    "Course_reviews['clean_reviews'] = Course_reviews['clean_reviews'].progress_apply(lambda x: re.sub(r\"n't\", \" not\", x))\n",
    "Course_reviews['clean_reviews'] = Course_reviews['clean_reviews'].progress_apply(lambda x: re.sub(r'[^a-zA-Z\\s.]', ' ', x))\n",
    "\n",
    "# Remove Whitespace:\n",
    "def remove_whitespace(text):\n",
    "    return  \" \".join(text.split())\n",
    "    \n",
    "Course_reviews[\"clean_reviews\"] = Course_reviews['clean_reviews'].progress_apply(remove_whitespace)"
   ]
  },
  {
   "cell_type": "code",
   "execution_count": 1,
   "id": "_FOrLUztIKgJ",
   "metadata": {
    "colab": {
     "base_uri": "https://localhost:8080/",
     "height": 167
    },
    "executionInfo": {
     "elapsed": 3,
     "status": "error",
     "timestamp": 1681945109776,
     "user": {
      "displayName": "antara saha",
      "userId": "12600971890078980421"
     },
     "user_tz": 240
    },
    "id": "_FOrLUztIKgJ",
    "outputId": "d470adfc-4845-435b-9b0e-90989f52a98e"
   },
   "outputs": [
    {
     "ename": "NameError",
     "evalue": "ignored",
     "output_type": "error",
     "traceback": [
      "\u001b[0;31m---------------------------------------------------------------------------\u001b[0m",
      "\u001b[0;31mNameError\u001b[0m                                 Traceback (most recent call last)",
      "\u001b[0;32m<ipython-input-1-488019cf524a>\u001b[0m in \u001b[0;36m<cell line: 1>\u001b[0;34m()\u001b[0m\n\u001b[0;32m----> 1\u001b[0;31m \u001b[0mCourse_reviews\u001b[0m\u001b[0;34m[\u001b[0m\u001b[0;34m'reviews'\u001b[0m\u001b[0;34m]\u001b[0m\u001b[0;34m.\u001b[0m\u001b[0mhead\u001b[0m\u001b[0;34m(\u001b[0m\u001b[0;36m10\u001b[0m\u001b[0;34m)\u001b[0m\u001b[0;34m.\u001b[0m\u001b[0mtolist\u001b[0m\u001b[0;34m(\u001b[0m\u001b[0;34m)\u001b[0m\u001b[0;34m\u001b[0m\u001b[0;34m\u001b[0m\u001b[0m\n\u001b[0m",
      "\u001b[0;31mNameError\u001b[0m: name 'Course_reviews' is not defined"
     ]
    }
   ],
   "source": [
    "Course_reviews['reviews'].head(10).tolist()"
   ]
  },
  {
   "cell_type": "code",
   "execution_count": 57,
   "id": "wPxDHCH7IRSs",
   "metadata": {
    "colab": {
     "base_uri": "https://localhost:8080/"
    },
    "executionInfo": {
     "elapsed": 173,
     "status": "ok",
     "timestamp": 1681920821053,
     "user": {
      "displayName": "antara saha",
      "userId": "12600971890078980421"
     },
     "user_tz": 240
    },
    "id": "wPxDHCH7IRSs",
    "outputId": "793f14d0-a732-47c4-b281-9b687e93be59"
   },
   "outputs": [
    {
     "data": {
      "text/plain": [
       "['pretty dry able pass two complete watch be happy . usual question final exam no course annoying far well many microsoft test take . never find suplimental material course reference ... care ... pass',\n",
       " 'would well experience video screen shot would sho side text instructor go thru user not go way beginning text able view slide instructor show .',\n",
       " 'information perfect program little annoying . wait minute watch video take quiz . information perfect pass test no issue',\n",
       " 'grammatical mistake test make double take not bad .',\n",
       " 'excellent course training provide detailed easy follow .']"
      ]
     },
     "execution_count": 57,
     "metadata": {},
     "output_type": "execute_result"
    }
   ],
   "source": [
    "Course_reviews['clean_reviews'].head().tolist()"
   ]
  },
  {
   "cell_type": "code",
   "execution_count": 58,
   "id": "6vqNRm0m6T9m",
   "metadata": {
    "executionInfo": {
     "elapsed": 195,
     "status": "ok",
     "timestamp": 1681920846137,
     "user": {
      "displayName": "antara saha",
      "userId": "12600971890078980421"
     },
     "user_tz": 240
    },
    "id": "6vqNRm0m6T9m"
   },
   "outputs": [],
   "source": [
    "# Sentiment Polarity score\n",
    "def text_polarity_score(text):\n",
    "    temp_dict = {}\n",
    "    p = TextBlob(text).sentiment.polarity\n",
    "    if p >= 0.5:\n",
    "        label = \"Positive\"\n",
    "    elif (p >= 0.0):\n",
    "        label =\"Neutral\"\n",
    "    else:\n",
    "        label =\"Negative\"\n",
    "    temp_dict['label'] = label\n",
    "    temp_dict['score'] = p\n",
    "    \n",
    "    return temp_dict"
   ]
  },
  {
   "cell_type": "code",
   "execution_count": 59,
   "id": "AxtQ_AVp6aX4",
   "metadata": {
    "colab": {
     "base_uri": "https://localhost:8080/"
    },
    "executionInfo": {
     "elapsed": 121396,
     "status": "ok",
     "timestamp": 1681920969303,
     "user": {
      "displayName": "antara saha",
      "userId": "12600971890078980421"
     },
     "user_tz": 240
    },
    "id": "AxtQ_AVp6aX4",
    "outputId": "56acb7b8-89b9-4d97-9fac-8ce7eb7eee87"
   },
   "outputs": [
    {
     "name": "stderr",
     "output_type": "stream",
     "text": [
      "100%|██████████| 424417/424417 [02:00<00:00, 3507.76it/s]\n"
     ]
    }
   ],
   "source": [
    "sentiment_dict = Course_reviews['clean_reviews'].progress_apply(text_polarity_score)"
   ]
  },
  {
   "cell_type": "code",
   "execution_count": 60,
   "id": "kn5SlkMOPDm9",
   "metadata": {
    "executionInfo": {
     "elapsed": 1019,
     "status": "ok",
     "timestamp": 1681920977376,
     "user": {
      "displayName": "antara saha",
      "userId": "12600971890078980421"
     },
     "user_tz": 240
    },
    "id": "kn5SlkMOPDm9"
   },
   "outputs": [],
   "source": [
    "Course_reviews['sentiments'] = [d['label'] for d in sentiment_dict]\n",
    "Course_reviews['sentiments_score'] = [d['score'] for d in sentiment_dict]"
   ]
  },
  {
   "cell_type": "code",
   "execution_count": 62,
   "id": "CpRfZa_CxsDW",
   "metadata": {
    "executionInfo": {
     "elapsed": 7689,
     "status": "ok",
     "timestamp": 1681921009797,
     "user": {
      "displayName": "antara saha",
      "userId": "12600971890078980421"
     },
     "user_tz": 240
    },
    "id": "CpRfZa_CxsDW"
   },
   "outputs": [],
   "source": [
    "Course_reviews.to_csv('/content/drive/MyDrive/CMU SUBJECTS/DATA/Clean Data/coursera_reviews_clean_data.csv', index=False)"
   ]
  },
  {
   "cell_type": "markdown",
   "id": "uz0tbB-vTrvu",
   "metadata": {
    "id": "uz0tbB-vTrvu"
   },
   "source": [
    "## **Merge all the data:**\n",
    "\n",
    "*   coursera_courses\n",
    "*   coursera_review_clean_data\n",
    "*   University_Global_Rankings\n",
    "*   Coursera_courses_category\n",
    "\n",
    "\n",
    "\n"
   ]
  },
  {
   "cell_type": "code",
   "execution_count": 63,
   "id": "169ace96-e1b3-4f53-b072-e8924fa0fe52",
   "metadata": {
    "executionInfo": {
     "elapsed": 422,
     "status": "ok",
     "timestamp": 1681922741625,
     "user": {
      "displayName": "antara saha",
      "userId": "12600971890078980421"
     },
     "user_tz": 240
    },
    "id": "169ace96-e1b3-4f53-b072-e8924fa0fe52"
   },
   "outputs": [],
   "source": [
    "# Load Courses details Data\n",
    "Coursera_courses = pd.read_csv('/content/drive/MyDrive/CMU SUBJECTS/DATA/Clean Data/Coursera_courses.csv')"
   ]
  },
  {
   "cell_type": "code",
   "execution_count": 64,
   "id": "d2FcnOsWUVZf",
   "metadata": {
    "executionInfo": {
     "elapsed": 3770,
     "status": "ok",
     "timestamp": 1681922758238,
     "user": {
      "displayName": "antara saha",
      "userId": "12600971890078980421"
     },
     "user_tz": 240
    },
    "id": "d2FcnOsWUVZf"
   },
   "outputs": [],
   "source": [
    "# Load Courses details Data\n",
    "Coursera_reviews = pd.read_csv('/content/drive/MyDrive/CMU SUBJECTS/DATA/Clean Data/coursera_reviews_clean_data.csv')"
   ]
  },
  {
   "cell_type": "code",
   "execution_count": 65,
   "id": "9338db5d-1742-4d85-807e-43bc0801fcdc",
   "metadata": {
    "executionInfo": {
     "elapsed": 167,
     "status": "ok",
     "timestamp": 1681922760229,
     "user": {
      "displayName": "antara saha",
      "userId": "12600971890078980421"
     },
     "user_tz": 240
    },
    "id": "9338db5d-1742-4d85-807e-43bc0801fcdc"
   },
   "outputs": [],
   "source": [
    "# Load University_Global_Ranking\n",
    "University_Global_Ranking = pd.read_csv('/content/drive/MyDrive/CMU SUBJECTS/DATA/Clean Data/University_Global_Ranking.csv')"
   ]
  },
  {
   "cell_type": "code",
   "execution_count": 66,
   "id": "M8d0zllGhSGN",
   "metadata": {
    "executionInfo": {
     "elapsed": 461,
     "status": "ok",
     "timestamp": 1681922761525,
     "user": {
      "displayName": "antara saha",
      "userId": "12600971890078980421"
     },
     "user_tz": 240
    },
    "id": "M8d0zllGhSGN"
   },
   "outputs": [],
   "source": [
    "# Load Coursera_courses__category\n",
    "Coursera_courses_category = pd.read_csv('/content/drive/MyDrive/CMU SUBJECTS/DATA/Clean Data/Coursera_courses_category.csv',encoding='ISO-8859-1')"
   ]
  },
  {
   "cell_type": "code",
   "execution_count": 67,
   "id": "_9lWqKE6jTek",
   "metadata": {
    "executionInfo": {
     "elapsed": 579,
     "status": "ok",
     "timestamp": 1681922763302,
     "user": {
      "displayName": "antara saha",
      "userId": "12600971890078980421"
     },
     "user_tz": 240
    },
    "id": "_9lWqKE6jTek"
   },
   "outputs": [],
   "source": [
    "# Load the data from csv to temp dataframes\n",
    "temp_merge_df = pd.merge(Coursera_courses,University_Global_Ranking[[\"institution\",\"World_Rank\",\"I_Category\"]],how=\"inner\",on='institution')\n",
    "temp_merge_df = pd.merge(temp_merge_df,Coursera_courses_category[[\"course_id\",\"subject\"]],how=\"inner\",on='course_id')\n",
    "temp_merge_df = pd.merge(temp_merge_df,Coursera_reviews[[\"course_id\",\"reviews\",\"reviewers\",\"date_reviews\",\"rating\",\"clean_reviews\",\"sentiments\",\"sentiments_score\",\"lang_detect\"]],how=\"inner\",on='course_id')"
   ]
  },
  {
   "cell_type": "code",
   "execution_count": 37,
   "id": "d_UopcJ__wqX",
   "metadata": {
    "colab": {
     "base_uri": "https://localhost:8080/",
     "height": 669
    },
    "executionInfo": {
     "elapsed": 193,
     "status": "ok",
     "timestamp": 1681916776124,
     "user": {
      "displayName": "antara saha",
      "userId": "12600971890078980421"
     },
     "user_tz": 240
    },
    "id": "d_UopcJ__wqX",
    "outputId": "0e8fe712-df02-4af9-cbf6-7affddd54b9d"
   },
   "outputs": [
    {
     "data": {
      "text/html": [
       "\n",
       "  <div id=\"df-5cd71daa-7585-4fb2-928b-5d34334f4701\">\n",
       "    <div class=\"colab-df-container\">\n",
       "      <div>\n",
       "<style scoped>\n",
       "    .dataframe tbody tr th:only-of-type {\n",
       "        vertical-align: middle;\n",
       "    }\n",
       "\n",
       "    .dataframe tbody tr th {\n",
       "        vertical-align: top;\n",
       "    }\n",
       "\n",
       "    .dataframe thead th {\n",
       "        text-align: right;\n",
       "    }\n",
       "</style>\n",
       "<table border=\"1\" class=\"dataframe\">\n",
       "  <thead>\n",
       "    <tr style=\"text-align: right;\">\n",
       "      <th></th>\n",
       "      <th>name</th>\n",
       "      <th>institution</th>\n",
       "      <th>course_url</th>\n",
       "      <th>course_id</th>\n",
       "      <th>World_Rank</th>\n",
       "      <th>I_Category</th>\n",
       "      <th>subject</th>\n",
       "      <th>reviews</th>\n",
       "      <th>reviewers</th>\n",
       "      <th>date_reviews</th>\n",
       "      <th>rating</th>\n",
       "      <th>clean_reviews</th>\n",
       "      <th>sentiments</th>\n",
       "      <th>sentiments_score</th>\n",
       "      <th>lang_detect</th>\n",
       "    </tr>\n",
       "  </thead>\n",
       "  <tbody>\n",
       "    <tr>\n",
       "      <th>0</th>\n",
       "      <td>Machine Learning</td>\n",
       "      <td>Stanford University</td>\n",
       "      <td>https://www.coursera.org/learn/machine-learning</td>\n",
       "      <td>machine-learning</td>\n",
       "      <td>3.0</td>\n",
       "      <td>University</td>\n",
       "      <td>Data Science</td>\n",
       "      <td>This is an extremely basic course. Machine lea...</td>\n",
       "      <td>By Deleted A</td>\n",
       "      <td>Mar 18, 2017</td>\n",
       "      <td>1</td>\n",
       "      <td>this be an extremely basic course . machine le...</td>\n",
       "      <td>Negative</td>\n",
       "      <td>-0.025189</td>\n",
       "      <td>en</td>\n",
       "    </tr>\n",
       "    <tr>\n",
       "      <th>1</th>\n",
       "      <td>Machine Learning</td>\n",
       "      <td>Stanford University</td>\n",
       "      <td>https://www.coursera.org/learn/machine-learning</td>\n",
       "      <td>machine-learning</td>\n",
       "      <td>3.0</td>\n",
       "      <td>University</td>\n",
       "      <td>Data Science</td>\n",
       "      <td>The course is ok but the certification procedu...</td>\n",
       "      <td>By Bruno C</td>\n",
       "      <td>Nov 09, 2015</td>\n",
       "      <td>1</td>\n",
       "      <td>the course be ok but the certification procedu...</td>\n",
       "      <td>Neutral</td>\n",
       "      <td>0.162500</td>\n",
       "      <td>en</td>\n",
       "    </tr>\n",
       "    <tr>\n",
       "      <th>2</th>\n",
       "      <td>Machine Learning</td>\n",
       "      <td>Stanford University</td>\n",
       "      <td>https://www.coursera.org/learn/machine-learning</td>\n",
       "      <td>machine-learning</td>\n",
       "      <td>3.0</td>\n",
       "      <td>University</td>\n",
       "      <td>Data Science</td>\n",
       "      <td>I just started week 3 , I have to admit that I...</td>\n",
       "      <td>By Fadi</td>\n",
       "      <td>Apr 15, 2019</td>\n",
       "      <td>1</td>\n",
       "      <td>I just start week I have to admit that it be a...</td>\n",
       "      <td>Neutral</td>\n",
       "      <td>0.232000</td>\n",
       "      <td>en</td>\n",
       "    </tr>\n",
       "    <tr>\n",
       "      <th>3</th>\n",
       "      <td>Machine Learning</td>\n",
       "      <td>Stanford University</td>\n",
       "      <td>https://www.coursera.org/learn/machine-learning</td>\n",
       "      <td>machine-learning</td>\n",
       "      <td>3.0</td>\n",
       "      <td>University</td>\n",
       "      <td>Data Science</td>\n",
       "      <td>This course is absolute garbage.  You get no f...</td>\n",
       "      <td>By Mathew L</td>\n",
       "      <td>Sep 25, 2015</td>\n",
       "      <td>1</td>\n",
       "      <td>this course be absolute garbage . you get no f...</td>\n",
       "      <td>Negative</td>\n",
       "      <td>-0.183532</td>\n",
       "      <td>en</td>\n",
       "    </tr>\n",
       "    <tr>\n",
       "      <th>4</th>\n",
       "      <td>Machine Learning</td>\n",
       "      <td>Stanford University</td>\n",
       "      <td>https://www.coursera.org/learn/machine-learning</td>\n",
       "      <td>machine-learning</td>\n",
       "      <td>3.0</td>\n",
       "      <td>University</td>\n",
       "      <td>Data Science</td>\n",
       "      <td>However good the material and lectures may be,...</td>\n",
       "      <td>By Rui C</td>\n",
       "      <td>Dec 12, 2015</td>\n",
       "      <td>1</td>\n",
       "      <td>however good the material and lecture may be t...</td>\n",
       "      <td>Neutral</td>\n",
       "      <td>0.010833</td>\n",
       "      <td>en</td>\n",
       "    </tr>\n",
       "  </tbody>\n",
       "</table>\n",
       "</div>\n",
       "      <button class=\"colab-df-convert\" onclick=\"convertToInteractive('df-5cd71daa-7585-4fb2-928b-5d34334f4701')\"\n",
       "              title=\"Convert this dataframe to an interactive table.\"\n",
       "              style=\"display:none;\">\n",
       "        \n",
       "  <svg xmlns=\"http://www.w3.org/2000/svg\" height=\"24px\"viewBox=\"0 0 24 24\"\n",
       "       width=\"24px\">\n",
       "    <path d=\"M0 0h24v24H0V0z\" fill=\"none\"/>\n",
       "    <path d=\"M18.56 5.44l.94 2.06.94-2.06 2.06-.94-2.06-.94-.94-2.06-.94 2.06-2.06.94zm-11 1L8.5 8.5l.94-2.06 2.06-.94-2.06-.94L8.5 2.5l-.94 2.06-2.06.94zm10 10l.94 2.06.94-2.06 2.06-.94-2.06-.94-.94-2.06-.94 2.06-2.06.94z\"/><path d=\"M17.41 7.96l-1.37-1.37c-.4-.4-.92-.59-1.43-.59-.52 0-1.04.2-1.43.59L10.3 9.45l-7.72 7.72c-.78.78-.78 2.05 0 2.83L4 21.41c.39.39.9.59 1.41.59.51 0 1.02-.2 1.41-.59l7.78-7.78 2.81-2.81c.8-.78.8-2.07 0-2.86zM5.41 20L4 18.59l7.72-7.72 1.47 1.35L5.41 20z\"/>\n",
       "  </svg>\n",
       "      </button>\n",
       "      \n",
       "  <style>\n",
       "    .colab-df-container {\n",
       "      display:flex;\n",
       "      flex-wrap:wrap;\n",
       "      gap: 12px;\n",
       "    }\n",
       "\n",
       "    .colab-df-convert {\n",
       "      background-color: #E8F0FE;\n",
       "      border: none;\n",
       "      border-radius: 50%;\n",
       "      cursor: pointer;\n",
       "      display: none;\n",
       "      fill: #1967D2;\n",
       "      height: 32px;\n",
       "      padding: 0 0 0 0;\n",
       "      width: 32px;\n",
       "    }\n",
       "\n",
       "    .colab-df-convert:hover {\n",
       "      background-color: #E2EBFA;\n",
       "      box-shadow: 0px 1px 2px rgba(60, 64, 67, 0.3), 0px 1px 3px 1px rgba(60, 64, 67, 0.15);\n",
       "      fill: #174EA6;\n",
       "    }\n",
       "\n",
       "    [theme=dark] .colab-df-convert {\n",
       "      background-color: #3B4455;\n",
       "      fill: #D2E3FC;\n",
       "    }\n",
       "\n",
       "    [theme=dark] .colab-df-convert:hover {\n",
       "      background-color: #434B5C;\n",
       "      box-shadow: 0px 1px 3px 1px rgba(0, 0, 0, 0.15);\n",
       "      filter: drop-shadow(0px 1px 2px rgba(0, 0, 0, 0.3));\n",
       "      fill: #FFFFFF;\n",
       "    }\n",
       "  </style>\n",
       "\n",
       "      <script>\n",
       "        const buttonEl =\n",
       "          document.querySelector('#df-5cd71daa-7585-4fb2-928b-5d34334f4701 button.colab-df-convert');\n",
       "        buttonEl.style.display =\n",
       "          google.colab.kernel.accessAllowed ? 'block' : 'none';\n",
       "\n",
       "        async function convertToInteractive(key) {\n",
       "          const element = document.querySelector('#df-5cd71daa-7585-4fb2-928b-5d34334f4701');\n",
       "          const dataTable =\n",
       "            await google.colab.kernel.invokeFunction('convertToInteractive',\n",
       "                                                     [key], {});\n",
       "          if (!dataTable) return;\n",
       "\n",
       "          const docLinkHtml = 'Like what you see? Visit the ' +\n",
       "            '<a target=\"_blank\" href=https://colab.research.google.com/notebooks/data_table.ipynb>data table notebook</a>'\n",
       "            + ' to learn more about interactive tables.';\n",
       "          element.innerHTML = '';\n",
       "          dataTable['output_type'] = 'display_data';\n",
       "          await google.colab.output.renderOutput(dataTable, element);\n",
       "          const docLink = document.createElement('div');\n",
       "          docLink.innerHTML = docLinkHtml;\n",
       "          element.appendChild(docLink);\n",
       "        }\n",
       "      </script>\n",
       "    </div>\n",
       "  </div>\n",
       "  "
      ],
      "text/plain": [
       "               name          institution  \\\n",
       "0  Machine Learning  Stanford University   \n",
       "1  Machine Learning  Stanford University   \n",
       "2  Machine Learning  Stanford University   \n",
       "3  Machine Learning  Stanford University   \n",
       "4  Machine Learning  Stanford University   \n",
       "\n",
       "                                        course_url         course_id  \\\n",
       "0  https://www.coursera.org/learn/machine-learning  machine-learning   \n",
       "1  https://www.coursera.org/learn/machine-learning  machine-learning   \n",
       "2  https://www.coursera.org/learn/machine-learning  machine-learning   \n",
       "3  https://www.coursera.org/learn/machine-learning  machine-learning   \n",
       "4  https://www.coursera.org/learn/machine-learning  machine-learning   \n",
       "\n",
       "   World_Rank  I_Category       subject  \\\n",
       "0         3.0  University  Data Science   \n",
       "1         3.0  University  Data Science   \n",
       "2         3.0  University  Data Science   \n",
       "3         3.0  University  Data Science   \n",
       "4         3.0  University  Data Science   \n",
       "\n",
       "                                             reviews     reviewers  \\\n",
       "0  This is an extremely basic course. Machine lea...  By Deleted A   \n",
       "1  The course is ok but the certification procedu...    By Bruno C   \n",
       "2  I just started week 3 , I have to admit that I...       By Fadi   \n",
       "3  This course is absolute garbage.  You get no f...   By Mathew L   \n",
       "4  However good the material and lectures may be,...      By Rui C   \n",
       "\n",
       "   date_reviews  rating                                      clean_reviews  \\\n",
       "0  Mar 18, 2017       1  this be an extremely basic course . machine le...   \n",
       "1  Nov 09, 2015       1  the course be ok but the certification procedu...   \n",
       "2  Apr 15, 2019       1  I just start week I have to admit that it be a...   \n",
       "3  Sep 25, 2015       1  this course be absolute garbage . you get no f...   \n",
       "4  Dec 12, 2015       1  however good the material and lecture may be t...   \n",
       "\n",
       "  sentiments  sentiments_score lang_detect  \n",
       "0   Negative         -0.025189          en  \n",
       "1    Neutral          0.162500          en  \n",
       "2    Neutral          0.232000          en  \n",
       "3   Negative         -0.183532          en  \n",
       "4    Neutral          0.010833          en  "
      ]
     },
     "execution_count": 37,
     "metadata": {},
     "output_type": "execute_result"
    }
   ],
   "source": [
    "temp_merge_df.head()"
   ]
  },
  {
   "cell_type": "code",
   "execution_count": 68,
   "id": "oqK1I8prsmM5",
   "metadata": {
    "executionInfo": {
     "elapsed": 11923,
     "status": "ok",
     "timestamp": 1681922780431,
     "user": {
      "displayName": "antara saha",
      "userId": "12600971890078980421"
     },
     "user_tz": 240
    },
    "id": "oqK1I8prsmM5"
   },
   "outputs": [],
   "source": [
    "temp_merge_df.to_csv('/content/drive/MyDrive/CMU SUBJECTS/DATA/Clean Data/Coursera_Final_Merge_clean_Data.csv', index=False)"
   ]
  },
  {
   "cell_type": "markdown",
   "id": "tCLpYof66CX8",
   "metadata": {
    "id": "tCLpYof66CX8"
   },
   "source": [
    "## **Hypothesis Testing**"
   ]
  },
  {
   "cell_type": "code",
   "execution_count": null,
   "id": "gZNYxlbeVEUe",
   "metadata": {
    "id": "gZNYxlbeVEUe"
   },
   "outputs": [],
   "source": [
    "Final_data = pd.read_csv('/content/drive/MyDrive/CMU SUBJECTS/DATA/Clean Data/Coursera_Final_Merge_clean_Data.csv')"
   ]
  },
  {
   "cell_type": "code",
   "execution_count": null,
   "id": "Om4rvnDUgvTa",
   "metadata": {
    "colab": {
     "base_uri": "https://localhost:8080/",
     "height": 669
    },
    "executionInfo": {
     "elapsed": 217,
     "status": "ok",
     "timestamp": 1681774684197,
     "user": {
      "displayName": "antara saha",
      "userId": "12600971890078980421"
     },
     "user_tz": 240
    },
    "id": "Om4rvnDUgvTa",
    "outputId": "c85a8f83-be98-42f7-8f0b-0aa862504bff"
   },
   "outputs": [
    {
     "data": {
      "text/html": [
       "\n",
       "  <div id=\"df-b516c60b-8658-425b-8874-50338baf329e\">\n",
       "    <div class=\"colab-df-container\">\n",
       "      <div>\n",
       "<style scoped>\n",
       "    .dataframe tbody tr th:only-of-type {\n",
       "        vertical-align: middle;\n",
       "    }\n",
       "\n",
       "    .dataframe tbody tr th {\n",
       "        vertical-align: top;\n",
       "    }\n",
       "\n",
       "    .dataframe thead th {\n",
       "        text-align: right;\n",
       "    }\n",
       "</style>\n",
       "<table border=\"1\" class=\"dataframe\">\n",
       "  <thead>\n",
       "    <tr style=\"text-align: right;\">\n",
       "      <th></th>\n",
       "      <th>name</th>\n",
       "      <th>institution</th>\n",
       "      <th>course_url</th>\n",
       "      <th>course_id</th>\n",
       "      <th>World_Rank</th>\n",
       "      <th>I_Category</th>\n",
       "      <th>subject</th>\n",
       "      <th>reviews</th>\n",
       "      <th>reviewers</th>\n",
       "      <th>date_reviews</th>\n",
       "      <th>rating</th>\n",
       "      <th>clean_reviews</th>\n",
       "      <th>sentiments</th>\n",
       "      <th>sentiments_score</th>\n",
       "      <th>lang_detect</th>\n",
       "    </tr>\n",
       "  </thead>\n",
       "  <tbody>\n",
       "    <tr>\n",
       "      <th>0</th>\n",
       "      <td>Machine Learning</td>\n",
       "      <td>Stanford University</td>\n",
       "      <td>https://www.coursera.org/learn/machine-learning</td>\n",
       "      <td>machine-learning</td>\n",
       "      <td>3.0</td>\n",
       "      <td>University</td>\n",
       "      <td>Data Science</td>\n",
       "      <td>This is an extremely basic course. Machine lea...</td>\n",
       "      <td>By Deleted A</td>\n",
       "      <td>Mar 18, 2017</td>\n",
       "      <td>1</td>\n",
       "      <td>this is an extremely basic course. machine lea...</td>\n",
       "      <td>Neutral</td>\n",
       "      <td>0.045720</td>\n",
       "      <td>en</td>\n",
       "    </tr>\n",
       "    <tr>\n",
       "      <th>1</th>\n",
       "      <td>Machine Learning</td>\n",
       "      <td>Stanford University</td>\n",
       "      <td>https://www.coursera.org/learn/machine-learning</td>\n",
       "      <td>machine-learning</td>\n",
       "      <td>3.0</td>\n",
       "      <td>University</td>\n",
       "      <td>Data Science</td>\n",
       "      <td>The course is ok but the certification procedu...</td>\n",
       "      <td>By Bruno C</td>\n",
       "      <td>Nov 09, 2015</td>\n",
       "      <td>1</td>\n",
       "      <td>the course is ok but the certification procedu...</td>\n",
       "      <td>Neutral</td>\n",
       "      <td>0.162500</td>\n",
       "      <td>en</td>\n",
       "    </tr>\n",
       "    <tr>\n",
       "      <th>2</th>\n",
       "      <td>Machine Learning</td>\n",
       "      <td>Stanford University</td>\n",
       "      <td>https://www.coursera.org/learn/machine-learning</td>\n",
       "      <td>machine-learning</td>\n",
       "      <td>3.0</td>\n",
       "      <td>University</td>\n",
       "      <td>Data Science</td>\n",
       "      <td>I just started week 3 , I have to admit that I...</td>\n",
       "      <td>By Fadi</td>\n",
       "      <td>Apr 15, 2019</td>\n",
       "      <td>1</td>\n",
       "      <td>i just started week 3   i have to admit that i...</td>\n",
       "      <td>Neutral</td>\n",
       "      <td>0.232000</td>\n",
       "      <td>en</td>\n",
       "    </tr>\n",
       "    <tr>\n",
       "      <th>3</th>\n",
       "      <td>Machine Learning</td>\n",
       "      <td>Stanford University</td>\n",
       "      <td>https://www.coursera.org/learn/machine-learning</td>\n",
       "      <td>machine-learning</td>\n",
       "      <td>3.0</td>\n",
       "      <td>University</td>\n",
       "      <td>Data Science</td>\n",
       "      <td>This course is absolute garbage.  You get no f...</td>\n",
       "      <td>By Mathew L</td>\n",
       "      <td>Sep 25, 2015</td>\n",
       "      <td>1</td>\n",
       "      <td>this course is absolute garbage. you get no fe...</td>\n",
       "      <td>Negative</td>\n",
       "      <td>-0.154762</td>\n",
       "      <td>en</td>\n",
       "    </tr>\n",
       "    <tr>\n",
       "      <th>4</th>\n",
       "      <td>Machine Learning</td>\n",
       "      <td>Stanford University</td>\n",
       "      <td>https://www.coursera.org/learn/machine-learning</td>\n",
       "      <td>machine-learning</td>\n",
       "      <td>3.0</td>\n",
       "      <td>University</td>\n",
       "      <td>Data Science</td>\n",
       "      <td>However good the material and lectures may be,...</td>\n",
       "      <td>By Rui C</td>\n",
       "      <td>Dec 12, 2015</td>\n",
       "      <td>1</td>\n",
       "      <td>however good the material and lectures may be ...</td>\n",
       "      <td>Neutral</td>\n",
       "      <td>0.010833</td>\n",
       "      <td>en</td>\n",
       "    </tr>\n",
       "  </tbody>\n",
       "</table>\n",
       "</div>\n",
       "      <button class=\"colab-df-convert\" onclick=\"convertToInteractive('df-b516c60b-8658-425b-8874-50338baf329e')\"\n",
       "              title=\"Convert this dataframe to an interactive table.\"\n",
       "              style=\"display:none;\">\n",
       "        \n",
       "  <svg xmlns=\"http://www.w3.org/2000/svg\" height=\"24px\"viewBox=\"0 0 24 24\"\n",
       "       width=\"24px\">\n",
       "    <path d=\"M0 0h24v24H0V0z\" fill=\"none\"/>\n",
       "    <path d=\"M18.56 5.44l.94 2.06.94-2.06 2.06-.94-2.06-.94-.94-2.06-.94 2.06-2.06.94zm-11 1L8.5 8.5l.94-2.06 2.06-.94-2.06-.94L8.5 2.5l-.94 2.06-2.06.94zm10 10l.94 2.06.94-2.06 2.06-.94-2.06-.94-.94-2.06-.94 2.06-2.06.94z\"/><path d=\"M17.41 7.96l-1.37-1.37c-.4-.4-.92-.59-1.43-.59-.52 0-1.04.2-1.43.59L10.3 9.45l-7.72 7.72c-.78.78-.78 2.05 0 2.83L4 21.41c.39.39.9.59 1.41.59.51 0 1.02-.2 1.41-.59l7.78-7.78 2.81-2.81c.8-.78.8-2.07 0-2.86zM5.41 20L4 18.59l7.72-7.72 1.47 1.35L5.41 20z\"/>\n",
       "  </svg>\n",
       "      </button>\n",
       "      \n",
       "  <style>\n",
       "    .colab-df-container {\n",
       "      display:flex;\n",
       "      flex-wrap:wrap;\n",
       "      gap: 12px;\n",
       "    }\n",
       "\n",
       "    .colab-df-convert {\n",
       "      background-color: #E8F0FE;\n",
       "      border: none;\n",
       "      border-radius: 50%;\n",
       "      cursor: pointer;\n",
       "      display: none;\n",
       "      fill: #1967D2;\n",
       "      height: 32px;\n",
       "      padding: 0 0 0 0;\n",
       "      width: 32px;\n",
       "    }\n",
       "\n",
       "    .colab-df-convert:hover {\n",
       "      background-color: #E2EBFA;\n",
       "      box-shadow: 0px 1px 2px rgba(60, 64, 67, 0.3), 0px 1px 3px 1px rgba(60, 64, 67, 0.15);\n",
       "      fill: #174EA6;\n",
       "    }\n",
       "\n",
       "    [theme=dark] .colab-df-convert {\n",
       "      background-color: #3B4455;\n",
       "      fill: #D2E3FC;\n",
       "    }\n",
       "\n",
       "    [theme=dark] .colab-df-convert:hover {\n",
       "      background-color: #434B5C;\n",
       "      box-shadow: 0px 1px 3px 1px rgba(0, 0, 0, 0.15);\n",
       "      filter: drop-shadow(0px 1px 2px rgba(0, 0, 0, 0.3));\n",
       "      fill: #FFFFFF;\n",
       "    }\n",
       "  </style>\n",
       "\n",
       "      <script>\n",
       "        const buttonEl =\n",
       "          document.querySelector('#df-b516c60b-8658-425b-8874-50338baf329e button.colab-df-convert');\n",
       "        buttonEl.style.display =\n",
       "          google.colab.kernel.accessAllowed ? 'block' : 'none';\n",
       "\n",
       "        async function convertToInteractive(key) {\n",
       "          const element = document.querySelector('#df-b516c60b-8658-425b-8874-50338baf329e');\n",
       "          const dataTable =\n",
       "            await google.colab.kernel.invokeFunction('convertToInteractive',\n",
       "                                                     [key], {});\n",
       "          if (!dataTable) return;\n",
       "\n",
       "          const docLinkHtml = 'Like what you see? Visit the ' +\n",
       "            '<a target=\"_blank\" href=https://colab.research.google.com/notebooks/data_table.ipynb>data table notebook</a>'\n",
       "            + ' to learn more about interactive tables.';\n",
       "          element.innerHTML = '';\n",
       "          dataTable['output_type'] = 'display_data';\n",
       "          await google.colab.output.renderOutput(dataTable, element);\n",
       "          const docLink = document.createElement('div');\n",
       "          docLink.innerHTML = docLinkHtml;\n",
       "          element.appendChild(docLink);\n",
       "        }\n",
       "      </script>\n",
       "    </div>\n",
       "  </div>\n",
       "  "
      ],
      "text/plain": [
       "               name          institution  \\\n",
       "0  Machine Learning  Stanford University   \n",
       "1  Machine Learning  Stanford University   \n",
       "2  Machine Learning  Stanford University   \n",
       "3  Machine Learning  Stanford University   \n",
       "4  Machine Learning  Stanford University   \n",
       "\n",
       "                                        course_url         course_id  \\\n",
       "0  https://www.coursera.org/learn/machine-learning  machine-learning   \n",
       "1  https://www.coursera.org/learn/machine-learning  machine-learning   \n",
       "2  https://www.coursera.org/learn/machine-learning  machine-learning   \n",
       "3  https://www.coursera.org/learn/machine-learning  machine-learning   \n",
       "4  https://www.coursera.org/learn/machine-learning  machine-learning   \n",
       "\n",
       "   World_Rank  I_Category       subject  \\\n",
       "0         3.0  University  Data Science   \n",
       "1         3.0  University  Data Science   \n",
       "2         3.0  University  Data Science   \n",
       "3         3.0  University  Data Science   \n",
       "4         3.0  University  Data Science   \n",
       "\n",
       "                                             reviews     reviewers  \\\n",
       "0  This is an extremely basic course. Machine lea...  By Deleted A   \n",
       "1  The course is ok but the certification procedu...    By Bruno C   \n",
       "2  I just started week 3 , I have to admit that I...       By Fadi   \n",
       "3  This course is absolute garbage.  You get no f...   By Mathew L   \n",
       "4  However good the material and lectures may be,...      By Rui C   \n",
       "\n",
       "   date_reviews  rating                                      clean_reviews  \\\n",
       "0  Mar 18, 2017       1  this is an extremely basic course. machine lea...   \n",
       "1  Nov 09, 2015       1  the course is ok but the certification procedu...   \n",
       "2  Apr 15, 2019       1  i just started week 3   i have to admit that i...   \n",
       "3  Sep 25, 2015       1  this course is absolute garbage. you get no fe...   \n",
       "4  Dec 12, 2015       1  however good the material and lectures may be ...   \n",
       "\n",
       "  sentiments  sentiments_score lang_detect  \n",
       "0    Neutral          0.045720          en  \n",
       "1    Neutral          0.162500          en  \n",
       "2    Neutral          0.232000          en  \n",
       "3   Negative         -0.154762          en  \n",
       "4    Neutral          0.010833          en  "
      ]
     },
     "execution_count": 47,
     "metadata": {},
     "output_type": "execute_result"
    }
   ],
   "source": [
    "Final_data.head()"
   ]
  },
  {
   "cell_type": "code",
   "execution_count": null,
   "id": "GwsyclvFVY3e",
   "metadata": {
    "id": "GwsyclvFVY3e"
   },
   "outputs": [],
   "source": [
    "# Import Statstical package\n",
    "import statsmodels.api as sm\n",
    "#from pprint import pprint\n",
    "#from tabulate import tabulate\n",
    "#from texttable import Texttable"
   ]
  },
  {
   "cell_type": "markdown",
   "id": "bDpWWy5AV5hD",
   "metadata": {
    "id": "bDpWWy5AV5hD"
   },
   "source": [
    "### **Hypothesis testing between sentiment score and rating**"
   ]
  },
  {
   "cell_type": "code",
   "execution_count": null,
   "id": "nahVVGzsVhq1",
   "metadata": {
    "id": "nahVVGzsVhq1"
   },
   "outputs": [],
   "source": [
    "pos_neg_reviews = Final_data[Final_data[\"sentiments\"] !=\"Neutral\"]"
   ]
  },
  {
   "cell_type": "code",
   "execution_count": null,
   "id": "dFy0HaCwVqfk",
   "metadata": {
    "colab": {
     "base_uri": "https://localhost:8080/"
    },
    "executionInfo": {
     "elapsed": 383,
     "status": "ok",
     "timestamp": 1681774699759,
     "user": {
      "displayName": "antara saha",
      "userId": "12600971890078980421"
     },
     "user_tz": 240
    },
    "id": "dFy0HaCwVqfk",
    "outputId": "a7904e8b-abdf-4191-c6dd-8ab37ca4aa88"
   },
   "outputs": [
    {
     "name": "stdout",
     "output_type": "stream",
     "text": [
      "                            OLS Regression Results                            \n",
      "==============================================================================\n",
      "Dep. Variable:                 rating   R-squared:                       0.280\n",
      "Model:                            OLS   Adj. R-squared:                  0.280\n",
      "Method:                 Least Squares   F-statistic:                 6.336e+04\n",
      "Date:                Mon, 17 Apr 2023   Prob (F-statistic):               0.00\n",
      "Time:                        23:38:18   Log-Likelihood:            -1.5550e+05\n",
      "No. Observations:              163167   AIC:                         3.110e+05\n",
      "Df Residuals:                  163165   BIC:                         3.110e+05\n",
      "Df Model:                           1                                         \n",
      "Covariance Type:            nonrobust                                         \n",
      "====================================================================================\n",
      "                       coef    std err          t      P>|t|      [0.025      0.975]\n",
      "------------------------------------------------------------------------------------\n",
      "const                3.8991      0.004   1105.672      0.000       3.892       3.906\n",
      "sentiments_score     1.2913      0.005    251.710      0.000       1.281       1.301\n",
      "==============================================================================\n",
      "Omnibus:                    63817.493   Durbin-Watson:                   0.553\n",
      "Prob(Omnibus):                  0.000   Jarque-Bera (JB):           325919.459\n",
      "Skew:                          -1.842   Prob(JB):                         0.00\n",
      "Kurtosis:                       8.863   Cond. No.                         4.65\n",
      "==============================================================================\n",
      "\n",
      "Notes:\n",
      "[1] Standard Errors assume that the covariance matrix of the errors is correctly specified.\n"
     ]
    }
   ],
   "source": [
    "X = pos_neg_reviews[\"sentiments_score\"]\n",
    "Y = pos_neg_reviews['rating']\n",
    "\n",
    "X = sm.add_constant(X)\n",
    "model = sm.OLS(Y, X).fit()\n",
    "print(model.summary())"
   ]
  },
  {
   "cell_type": "code",
   "execution_count": null,
   "id": "IJZxPVa6ZB7i",
   "metadata": {
    "colab": {
     "base_uri": "https://localhost:8080/"
    },
    "executionInfo": {
     "elapsed": 430,
     "status": "ok",
     "timestamp": 1681774708377,
     "user": {
      "displayName": "antara saha",
      "userId": "12600971890078980421"
     },
     "user_tz": 240
    },
    "id": "IJZxPVa6ZB7i",
    "outputId": "6f02348f-6341-4b16-8f04-30d4c6b0d83c"
   },
   "outputs": [
    {
     "name": "stdout",
     "output_type": "stream",
     "text": [
      "                            OLS Regression Results                            \n",
      "==============================================================================\n",
      "Dep. Variable:                 rating   R-squared:                       0.286\n",
      "Model:                            OLS   Adj. R-squared:                  0.286\n",
      "Method:                 Least Squares   F-statistic:                     4671.\n",
      "Date:                Mon, 17 Apr 2023   Prob (F-statistic):               0.00\n",
      "Time:                        23:38:27   Log-Likelihood:            -1.5477e+05\n",
      "No. Observations:              163167   AIC:                         3.096e+05\n",
      "Df Residuals:                  163152   BIC:                         3.097e+05\n",
      "Df Model:                          14                                         \n",
      "Covariance Type:            nonrobust                                         \n",
      "========================================================================================================\n",
      "                                           coef    std err          t      P>|t|      [0.025      0.975]\n",
      "--------------------------------------------------------------------------------------------------------\n",
      "const                                    2.5317      0.040     62.742      0.000       2.453       2.611\n",
      "sentiments_score                         1.2858      0.005    251.156      0.000       1.276       1.296\n",
      "Inst_Company                             1.2701      0.020     62.266      0.000       1.230       1.310\n",
      "Inst_University                          1.2617      0.020     62.386      0.000       1.222       1.301\n",
      "sub_Arts and Humanities                  0.1911      0.061      3.139      0.002       0.072       0.310\n",
      "sub_Business                             0.1145      0.061      1.890      0.059      -0.004       0.233\n",
      "sub_Computer Science                     0.0682      0.061      1.126      0.260      -0.050       0.187\n",
      "sub_Data Science                         0.0497      0.061      0.821      0.412      -0.069       0.168\n",
      "sub_Health                               0.1399      0.061      2.289      0.022       0.020       0.260\n",
      "sub_Information Technology               0.0973      0.061      1.603      0.109      -0.022       0.216\n",
      "sub_Landuage Learning                    0.0307      0.100      0.308      0.758      -0.165       0.226\n",
      "sub_Language Learning                    0.1815      0.061      2.987      0.003       0.062       0.301\n",
      "sub_Math and Logic                       0.0495      0.061      0.805      0.421      -0.071       0.170\n",
      "sub_Personal Development                 0.2200      0.061      3.628      0.000       0.101       0.339\n",
      "sub_Physical Science and Engineering     0.1686      0.061      2.769      0.006       0.049       0.288\n",
      "sub_Social Science                       0.2092      0.061      3.440      0.001       0.090       0.328\n",
      "==============================================================================\n",
      "Omnibus:                    63671.020   Durbin-Watson:                   0.555\n",
      "Prob(Omnibus):                  0.000   Jarque-Bera (JB):           327895.299\n",
      "Skew:                          -1.834   Prob(JB):                         0.00\n",
      "Kurtosis:                       8.898   Cond. No.                     1.00e+15\n",
      "==============================================================================\n",
      "\n",
      "Notes:\n",
      "[1] Standard Errors assume that the covariance matrix of the errors is correctly specified.\n",
      "[2] The smallest eigenvalue is 3.54e-25. This might indicate that there are\n",
      "strong multicollinearity problems or that the design matrix is singular.\n"
     ]
    }
   ],
   "source": [
    "dummy_vars_i = pd.get_dummies(pos_neg_reviews['I_Category'], prefix='Inst')\n",
    "dummy_vars_s = pd.get_dummies(pos_neg_reviews['subject'], prefix='sub')\n",
    "X = pd.concat([pos_neg_reviews[\"sentiments_score\"],dummy_vars_i,dummy_vars_s], axis=1)\n",
    "Y = pos_neg_reviews['rating']\n",
    "\n",
    "X = sm.add_constant(X)\n",
    "model = sm.OLS(Y, X).fit()\n",
    "summary = model.summary()\n",
    "print(summary)"
   ]
  },
  {
   "cell_type": "code",
   "execution_count": null,
   "id": "J9igHJTrWjtH",
   "metadata": {
    "colab": {
     "base_uri": "https://localhost:8080/"
    },
    "executionInfo": {
     "elapsed": 1052,
     "status": "ok",
     "timestamp": 1681570115596,
     "user": {
      "displayName": "antara saha",
      "userId": "12600971890078980421"
     },
     "user_tz": 240
    },
    "id": "J9igHJTrWjtH",
    "outputId": "4229240b-2fd9-4bf5-c569-f292deec708e"
   },
   "outputs": [
    {
     "name": "stdout",
     "output_type": "stream",
     "text": [
      "                            OLS Regression Results                            \n",
      "==============================================================================\n",
      "Dep. Variable:                 rating   R-squared:                       0.104\n",
      "Model:                            OLS   Adj. R-squared:                  0.104\n",
      "Method:                 Least Squares   F-statistic:                     3529.\n",
      "Date:                Sat, 15 Apr 2023   Prob (F-statistic):               0.00\n",
      "Time:                        14:48:34   Log-Likelihood:            -4.4765e+05\n",
      "No. Observations:              424417   AIC:                         8.953e+05\n",
      "Df Residuals:                  424402   BIC:                         8.955e+05\n",
      "Df Model:                          14                                         \n",
      "Covariance Type:            nonrobust                                         \n",
      "========================================================================================================\n",
      "                                           coef    std err          t      P>|t|      [0.025      0.975]\n",
      "--------------------------------------------------------------------------------------------------------\n",
      "const                                 2.288e+12   4.22e+11      5.428      0.000    1.46e+12    3.11e+12\n",
      "sentiments_score                         0.8043      0.004    209.063      0.000       0.797       0.812\n",
      "Inst_Company                         -2.288e+12   4.22e+11     -5.428      0.000   -3.11e+12   -1.46e+12\n",
      "Inst_University                      -2.288e+12   4.22e+11     -5.428      0.000   -3.11e+12   -1.46e+12\n",
      "sub_Arts and Humanities                  0.1175      0.039      3.005      0.003       0.041       0.194\n",
      "sub_Business                             0.0505      0.039      1.299      0.194      -0.026       0.127\n",
      "sub_Computer Science                     0.0049      0.039      0.126      0.900      -0.071       0.081\n",
      "sub_Data Science                        -0.0280      0.039     -0.720      0.472      -0.104       0.048\n",
      "sub_Health                               0.1020      0.039      2.600      0.009       0.025       0.179\n",
      "sub_Information Technology               0.0171      0.039      0.438      0.662      -0.059       0.094\n",
      "sub_Landuage Learning                   -0.0293      0.068     -0.430      0.667      -0.163       0.104\n",
      "sub_Language Learning                    0.1670      0.039      4.278      0.000       0.090       0.243\n",
      "sub_Math and Logic                      -0.0674      0.040     -1.705      0.088      -0.145       0.010\n",
      "sub_Personal Development                 0.1839      0.039      4.722      0.000       0.108       0.260\n",
      "sub_Physical Science and Engineering     0.1167      0.039      2.983      0.003       0.040       0.193\n",
      "sub_Social Science                       0.1551      0.039      3.974      0.000       0.079       0.232\n",
      "==============================================================================\n",
      "Omnibus:                   211710.873   Durbin-Watson:                   0.206\n",
      "Prob(Omnibus):                  0.000   Jarque-Bera (JB):          1304411.406\n",
      "Skew:                          -2.387   Prob(JB):                         0.00\n",
      "Kurtosis:                      10.139   Cond. No.                     9.60e+14\n",
      "==============================================================================\n",
      "\n",
      "Notes:\n",
      "[1] Standard Errors assume that the covariance matrix of the errors is correctly specified.\n",
      "[2] The smallest eigenvalue is 9.05e-25. This might indicate that there are\n",
      "strong multicollinearity problems or that the design matrix is singular.\n"
     ]
    }
   ],
   "source": [
    "dummy_vars_i = pd.get_dummies(Final_data['I_Category'], prefix='Inst')\n",
    "dummy_vars_s = pd.get_dummies(Final_data['subject'], prefix='sub')\n",
    "X = pd.concat([Final_data[\"sentiments_score\"],dummy_vars_i,dummy_vars_s], axis=1)\n",
    "Y = Final_data['rating']\n",
    "\n",
    "X = sm.add_constant(X)\n",
    "model = sm.OLS(Y, X).fit()\n",
    "summary = model.summary()\n",
    "print(summary)"
   ]
  },
  {
   "cell_type": "code",
   "execution_count": null,
   "id": "z3OOV9QrXGnP",
   "metadata": {
    "id": "z3OOV9QrXGnP"
   },
   "outputs": [],
   "source": [
    "import numpy as np\n",
    "from sklearn.linear_model import LinearRegression"
   ]
  },
  {
   "cell_type": "code",
   "execution_count": null,
   "id": "qqENXstlLqNc",
   "metadata": {
    "id": "qqENXstlLqNc"
   },
   "outputs": [],
   "source": [
    "X = np.array(pos_neg_reviews[\"sentiments_score\"]).reshape((-1,1))\n",
    "Y = np.array(pos_neg_reviews['rating'])"
   ]
  },
  {
   "cell_type": "code",
   "execution_count": null,
   "id": "6MOYJdIVLzjI",
   "metadata": {
    "colab": {
     "base_uri": "https://localhost:8080/"
    },
    "executionInfo": {
     "elapsed": 2,
     "status": "ok",
     "timestamp": 1681734504301,
     "user": {
      "displayName": "antara saha",
      "userId": "12600971890078980421"
     },
     "user_tz": 240
    },
    "id": "6MOYJdIVLzjI",
    "outputId": "cc6c8194-9fbc-417d-f40e-27a75cb5dc39"
   },
   "outputs": [
    {
     "data": {
      "text/plain": [
       "(162990, 1)"
      ]
     },
     "execution_count": 15,
     "metadata": {},
     "output_type": "execute_result"
    }
   ],
   "source": [
    "X.shape"
   ]
  },
  {
   "cell_type": "code",
   "execution_count": null,
   "id": "djW073DjL0N3",
   "metadata": {
    "colab": {
     "base_uri": "https://localhost:8080/",
     "height": 74
    },
    "executionInfo": {
     "elapsed": 196,
     "status": "ok",
     "timestamp": 1681734532969,
     "user": {
      "displayName": "antara saha",
      "userId": "12600971890078980421"
     },
     "user_tz": 240
    },
    "id": "djW073DjL0N3",
    "outputId": "74604b44-29d2-4a13-8d3b-1ddf13cb15aa"
   },
   "outputs": [
    {
     "data": {
      "text/html": [
       "<style>#sk-container-id-1 {color: black;background-color: white;}#sk-container-id-1 pre{padding: 0;}#sk-container-id-1 div.sk-toggleable {background-color: white;}#sk-container-id-1 label.sk-toggleable__label {cursor: pointer;display: block;width: 100%;margin-bottom: 0;padding: 0.3em;box-sizing: border-box;text-align: center;}#sk-container-id-1 label.sk-toggleable__label-arrow:before {content: \"▸\";float: left;margin-right: 0.25em;color: #696969;}#sk-container-id-1 label.sk-toggleable__label-arrow:hover:before {color: black;}#sk-container-id-1 div.sk-estimator:hover label.sk-toggleable__label-arrow:before {color: black;}#sk-container-id-1 div.sk-toggleable__content {max-height: 0;max-width: 0;overflow: hidden;text-align: left;background-color: #f0f8ff;}#sk-container-id-1 div.sk-toggleable__content pre {margin: 0.2em;color: black;border-radius: 0.25em;background-color: #f0f8ff;}#sk-container-id-1 input.sk-toggleable__control:checked~div.sk-toggleable__content {max-height: 200px;max-width: 100%;overflow: auto;}#sk-container-id-1 input.sk-toggleable__control:checked~label.sk-toggleable__label-arrow:before {content: \"▾\";}#sk-container-id-1 div.sk-estimator input.sk-toggleable__control:checked~label.sk-toggleable__label {background-color: #d4ebff;}#sk-container-id-1 div.sk-label input.sk-toggleable__control:checked~label.sk-toggleable__label {background-color: #d4ebff;}#sk-container-id-1 input.sk-hidden--visually {border: 0;clip: rect(1px 1px 1px 1px);clip: rect(1px, 1px, 1px, 1px);height: 1px;margin: -1px;overflow: hidden;padding: 0;position: absolute;width: 1px;}#sk-container-id-1 div.sk-estimator {font-family: monospace;background-color: #f0f8ff;border: 1px dotted black;border-radius: 0.25em;box-sizing: border-box;margin-bottom: 0.5em;}#sk-container-id-1 div.sk-estimator:hover {background-color: #d4ebff;}#sk-container-id-1 div.sk-parallel-item::after {content: \"\";width: 100%;border-bottom: 1px solid gray;flex-grow: 1;}#sk-container-id-1 div.sk-label:hover label.sk-toggleable__label {background-color: #d4ebff;}#sk-container-id-1 div.sk-serial::before {content: \"\";position: absolute;border-left: 1px solid gray;box-sizing: border-box;top: 0;bottom: 0;left: 50%;z-index: 0;}#sk-container-id-1 div.sk-serial {display: flex;flex-direction: column;align-items: center;background-color: white;padding-right: 0.2em;padding-left: 0.2em;position: relative;}#sk-container-id-1 div.sk-item {position: relative;z-index: 1;}#sk-container-id-1 div.sk-parallel {display: flex;align-items: stretch;justify-content: center;background-color: white;position: relative;}#sk-container-id-1 div.sk-item::before, #sk-container-id-1 div.sk-parallel-item::before {content: \"\";position: absolute;border-left: 1px solid gray;box-sizing: border-box;top: 0;bottom: 0;left: 50%;z-index: -1;}#sk-container-id-1 div.sk-parallel-item {display: flex;flex-direction: column;z-index: 1;position: relative;background-color: white;}#sk-container-id-1 div.sk-parallel-item:first-child::after {align-self: flex-end;width: 50%;}#sk-container-id-1 div.sk-parallel-item:last-child::after {align-self: flex-start;width: 50%;}#sk-container-id-1 div.sk-parallel-item:only-child::after {width: 0;}#sk-container-id-1 div.sk-dashed-wrapped {border: 1px dashed gray;margin: 0 0.4em 0.5em 0.4em;box-sizing: border-box;padding-bottom: 0.4em;background-color: white;}#sk-container-id-1 div.sk-label label {font-family: monospace;font-weight: bold;display: inline-block;line-height: 1.2em;}#sk-container-id-1 div.sk-label-container {text-align: center;}#sk-container-id-1 div.sk-container {/* jupyter's `normalize.less` sets `[hidden] { display: none; }` but bootstrap.min.css set `[hidden] { display: none !important; }` so we also need the `!important` here to be able to override the default hidden behavior on the sphinx rendered scikit-learn.org. See: https://github.com/scikit-learn/scikit-learn/issues/21755 */display: inline-block !important;position: relative;}#sk-container-id-1 div.sk-text-repr-fallback {display: none;}</style><div id=\"sk-container-id-1\" class=\"sk-top-container\"><div class=\"sk-text-repr-fallback\"><pre>LinearRegression()</pre><b>In a Jupyter environment, please rerun this cell to show the HTML representation or trust the notebook. <br />On GitHub, the HTML representation is unable to render, please try loading this page with nbviewer.org.</b></div><div class=\"sk-container\" hidden><div class=\"sk-item\"><div class=\"sk-estimator sk-toggleable\"><input class=\"sk-toggleable__control sk-hidden--visually\" id=\"sk-estimator-id-1\" type=\"checkbox\" checked><label for=\"sk-estimator-id-1\" class=\"sk-toggleable__label sk-toggleable__label-arrow\">LinearRegression</label><div class=\"sk-toggleable__content\"><pre>LinearRegression()</pre></div></div></div></div></div>"
      ],
      "text/plain": [
       "LinearRegression()"
      ]
     },
     "execution_count": 17,
     "metadata": {},
     "output_type": "execute_result"
    }
   ],
   "source": [
    "model = LinearRegression()\n",
    "model.fit(X, Y)"
   ]
  },
  {
   "cell_type": "code",
   "execution_count": null,
   "id": "NLjbipN2MFop",
   "metadata": {
    "colab": {
     "base_uri": "https://localhost:8080/"
    },
    "executionInfo": {
     "elapsed": 152,
     "status": "ok",
     "timestamp": 1681734576820,
     "user": {
      "displayName": "antara saha",
      "userId": "12600971890078980421"
     },
     "user_tz": 240
    },
    "id": "NLjbipN2MFop",
    "outputId": "404af715-0a1e-4e5d-90d1-708b5ce5e9f4"
   },
   "outputs": [
    {
     "name": "stdout",
     "output_type": "stream",
     "text": [
      "coefficient of determination: 0.2821635293175888\n"
     ]
    }
   ],
   "source": [
    "r_sq = model.score(X, Y)\n",
    "print(f\"coefficient of determination: {r_sq}\")"
   ]
  },
  {
   "cell_type": "code",
   "execution_count": null,
   "id": "jyqxFiavMSfn",
   "metadata": {
    "id": "jyqxFiavMSfn"
   },
   "outputs": [],
   "source": []
  }
 ],
 "metadata": {
  "colab": {
   "provenance": []
  },
  "gpuClass": "standard",
  "kernelspec": {
   "display_name": "Python 3 (ipykernel)",
   "language": "python",
   "name": "python3"
  },
  "language_info": {
   "codemirror_mode": {
    "name": "ipython",
    "version": 3
   },
   "file_extension": ".py",
   "mimetype": "text/x-python",
   "name": "python",
   "nbconvert_exporter": "python",
   "pygments_lexer": "ipython3",
   "version": "3.10.11"
  }
 },
 "nbformat": 4,
 "nbformat_minor": 5
}
